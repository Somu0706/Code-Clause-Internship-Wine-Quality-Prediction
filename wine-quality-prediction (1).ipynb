{
 "cells": [
  {
   "cell_type": "markdown",
   "metadata": {},
   "source": [
    "<center>\n",
    "  <h1 style=\"background-color:BLACK; color:white; font-size:40px; font-weight:bold; font-family:Times New Roman; border:2px solid black;\">WINE QUALITY PREDICTION</h1>\n",
    "</center>"
   ]
  },
  {
   "cell_type": "markdown",
   "metadata": {
    "execution": {
     "iopub.execute_input": "2023-08-09T15:47:56.194631Z",
     "iopub.status.busy": "2023-08-09T15:47:56.194160Z",
     "iopub.status.idle": "2023-08-09T15:47:56.232076Z",
     "shell.execute_reply": "2023-08-09T15:47:56.230993Z",
     "shell.execute_reply.started": "2023-08-09T15:47:56.194594Z"
    }
   },
   "source": [
    "<center><img src = \"https://cdn.analyticsvidhya.com/wp-content/uploads/2021/04/45245download.jpg\"style></center>"
   ]
  },
  {
   "cell_type": "markdown",
   "metadata": {},
   "source": [
    "# <center style=\"border:2px solid black;\">PROJECT OVERVIEW </center>"
   ]
  },
  {
   "cell_type": "markdown",
   "metadata": {
    "execution": {
     "iopub.execute_input": "2023-08-10T05:14:28.853590Z",
     "iopub.status.busy": "2023-08-10T05:14:28.853183Z",
     "iopub.status.idle": "2023-08-10T05:14:28.870501Z",
     "shell.execute_reply": "2023-08-10T05:14:28.868895Z",
     "shell.execute_reply.started": "2023-08-10T05:14:28.853560Z"
    }
   },
   "source": [
    "<h3>Overview:</h3>\n",
    "Wine quality prediction is a crucial task in the wine industry, aiming to assess and predict the perceived quality of wines based on various chemical properties. In this context, two datasets are available, each containing information about the red and white variants of the Portuguese \"Vinho Verde\" wine. These datasets provide a comprehensive collection of attributes, such as chemical composition and physical characteristics, which influence the final quality of the wines. By applying machine learning and statistical analysis to these datasets, it is possible to build predictive models that can estimate the quality of the wines, thus assisting winemakers, sommeliers, and consumers in making informed decisions.\n",
    "\n",
    "<h3>Objective:</h3>\n",
    "The objective of wine quality prediction using the red and white variants of the \"Vinho Verde\" wine datasets is to develop accurate and reliable models that can predict the quality of the wines based on their chemical and physical attributes. The goal is to create models that can generalize well to new, unseen data, allowing for the assessment of wine quality without the need for extensive and time-consuming sensory evaluations. These predictive models can provide several benefits:\n",
    "\n",
    "<h3>Quality Assessment:</h3> Winemakers and producers can use the predictive models to quickly assess the quality of new batches of wine without relying solely on expert opinions or time-consuming sensory tests.\n",
    "\n",
    "<h3>Quality Improvement:</h3> By analyzing the relationships between various chemical components and wine quality, insights can be gained into which attributes have the most significant impact on wine quality. This information can guide efforts to improve wine production processes.\n",
    "\n",
    "<h3>Cost Efficiency:</h3> Traditional methods of evaluating wine quality often involve sensory panels and expert evaluations, which can be resource-intensive. Predictive models offer a more cost-effective and efficient alternative.\n",
    "\n",
    "<h3>Consumer Guidance:</h3> Consumers can benefit from these models by having an objective estimate of the quality of a wine before purchasing. This can help them make more informed choices based on their preferences.\n",
    "\n",
    "<h3>Research and Innovation:</h3> The datasets and models can also serve as valuable resources for researchers and analysts in the wine industry, enabling them to explore correlations between attributes and quality and potentially leading to new insights and innovations.<br></br>\n",
    "\n",
    "In summary, the objective of wine quality prediction using the \"Vinho Verde\" wine datasets is to leverage machine learning techniques to create accurate models that can predict the quality of wines based on their chemical and physical characteristics. These models have the potential to streamline the quality assessment process, enhance production practices, and provide valuable information to both industry professionals and consumers"
   ]
  },
  {
   "cell_type": "markdown",
   "metadata": {},
   "source": [
    "# Install Libraries"
   ]
  },
  {
   "cell_type": "code",
   "execution_count": null,
   "metadata": {
    "execution": {
     "iopub.execute_input": "2023-08-10T03:50:27.747261Z",
     "iopub.status.busy": "2023-08-10T03:50:27.746872Z",
     "iopub.status.idle": "2023-08-10T03:50:29.191928Z",
     "shell.execute_reply": "2023-08-10T03:50:29.190217Z",
     "shell.execute_reply.started": "2023-08-10T03:50:27.747230Z"
    }
   },
   "outputs": [],
   "source": [
    "import numpy as np # linear algebra\n",
    "import pandas as pd # data processing, CSV file I/O \n",
    "import matplotlib.pyplot as plt\n",
    "import seaborn as sns\n",
    "%matplotlib inline"
   ]
  },
  {
   "cell_type": "markdown",
   "metadata": {},
   "source": [
    "# DATA PREPARATION"
   ]
  },
  {
   "cell_type": "code",
   "execution_count": 74,
   "metadata": {
    "execution": {
     "iopub.execute_input": "2023-08-10T04:50:40.447611Z",
     "iopub.status.busy": "2023-08-10T04:50:40.447175Z",
     "iopub.status.idle": "2023-08-10T04:50:40.498130Z",
     "shell.execute_reply": "2023-08-10T04:50:40.496845Z",
     "shell.execute_reply.started": "2023-08-10T04:50:40.447580Z"
    }
   },
   "outputs": [
    {
     "data": {
      "text/html": [
       "<div>\n",
       "<style scoped>\n",
       "    .dataframe tbody tr th:only-of-type {\n",
       "        vertical-align: middle;\n",
       "    }\n",
       "\n",
       "    .dataframe tbody tr th {\n",
       "        vertical-align: top;\n",
       "    }\n",
       "\n",
       "    .dataframe thead th {\n",
       "        text-align: right;\n",
       "    }\n",
       "</style>\n",
       "<table border=\"1\" class=\"dataframe\">\n",
       "  <thead>\n",
       "    <tr style=\"text-align: right;\">\n",
       "      <th></th>\n",
       "      <th>type</th>\n",
       "      <th>fixed acidity</th>\n",
       "      <th>volatile acidity</th>\n",
       "      <th>citric acid</th>\n",
       "      <th>residual sugar</th>\n",
       "      <th>chlorides</th>\n",
       "      <th>free sulfur dioxide</th>\n",
       "      <th>total sulfur dioxide</th>\n",
       "      <th>density</th>\n",
       "      <th>pH</th>\n",
       "      <th>sulphates</th>\n",
       "      <th>alcohol</th>\n",
       "      <th>quality</th>\n",
       "    </tr>\n",
       "  </thead>\n",
       "  <tbody>\n",
       "    <tr>\n",
       "      <th>0</th>\n",
       "      <td>white</td>\n",
       "      <td>7.0</td>\n",
       "      <td>0.27</td>\n",
       "      <td>0.36</td>\n",
       "      <td>20.7</td>\n",
       "      <td>0.045</td>\n",
       "      <td>45.0</td>\n",
       "      <td>170.0</td>\n",
       "      <td>1.0010</td>\n",
       "      <td>3.00</td>\n",
       "      <td>0.45</td>\n",
       "      <td>8.8</td>\n",
       "      <td>12</td>\n",
       "    </tr>\n",
       "    <tr>\n",
       "      <th>1</th>\n",
       "      <td>white</td>\n",
       "      <td>6.3</td>\n",
       "      <td>0.30</td>\n",
       "      <td>0.34</td>\n",
       "      <td>1.6</td>\n",
       "      <td>0.049</td>\n",
       "      <td>14.0</td>\n",
       "      <td>132.0</td>\n",
       "      <td>0.9940</td>\n",
       "      <td>3.30</td>\n",
       "      <td>0.49</td>\n",
       "      <td>9.5</td>\n",
       "      <td>6</td>\n",
       "    </tr>\n",
       "    <tr>\n",
       "      <th>2</th>\n",
       "      <td>white</td>\n",
       "      <td>8.1</td>\n",
       "      <td>0.28</td>\n",
       "      <td>0.40</td>\n",
       "      <td>6.9</td>\n",
       "      <td>0.050</td>\n",
       "      <td>30.0</td>\n",
       "      <td>97.0</td>\n",
       "      <td>0.9951</td>\n",
       "      <td>3.26</td>\n",
       "      <td>0.44</td>\n",
       "      <td>10.1</td>\n",
       "      <td>6</td>\n",
       "    </tr>\n",
       "    <tr>\n",
       "      <th>3</th>\n",
       "      <td>white</td>\n",
       "      <td>7.2</td>\n",
       "      <td>0.23</td>\n",
       "      <td>0.32</td>\n",
       "      <td>8.5</td>\n",
       "      <td>0.058</td>\n",
       "      <td>47.0</td>\n",
       "      <td>186.0</td>\n",
       "      <td>0.9956</td>\n",
       "      <td>3.19</td>\n",
       "      <td>0.40</td>\n",
       "      <td>9.9</td>\n",
       "      <td>6</td>\n",
       "    </tr>\n",
       "    <tr>\n",
       "      <th>4</th>\n",
       "      <td>white</td>\n",
       "      <td>7.2</td>\n",
       "      <td>0.23</td>\n",
       "      <td>0.32</td>\n",
       "      <td>8.5</td>\n",
       "      <td>0.058</td>\n",
       "      <td>47.0</td>\n",
       "      <td>186.0</td>\n",
       "      <td>0.9956</td>\n",
       "      <td>3.19</td>\n",
       "      <td>0.40</td>\n",
       "      <td>9.9</td>\n",
       "      <td>6</td>\n",
       "    </tr>\n",
       "  </tbody>\n",
       "</table>\n",
       "</div>"
      ],
      "text/plain": [
       "    type  fixed acidity  volatile acidity  citric acid  residual sugar  \\\n",
       "0  white            7.0              0.27         0.36            20.7   \n",
       "1  white            6.3              0.30         0.34             1.6   \n",
       "2  white            8.1              0.28         0.40             6.9   \n",
       "3  white            7.2              0.23         0.32             8.5   \n",
       "4  white            7.2              0.23         0.32             8.5   \n",
       "\n",
       "   chlorides  free sulfur dioxide  total sulfur dioxide  density    pH  \\\n",
       "0      0.045                 45.0                 170.0   1.0010  3.00   \n",
       "1      0.049                 14.0                 132.0   0.9940  3.30   \n",
       "2      0.050                 30.0                  97.0   0.9951  3.26   \n",
       "3      0.058                 47.0                 186.0   0.9956  3.19   \n",
       "4      0.058                 47.0                 186.0   0.9956  3.19   \n",
       "\n",
       "   sulphates  alcohol  quality  \n",
       "0       0.45      8.8       12  \n",
       "1       0.49      9.5        6  \n",
       "2       0.44     10.1        6  \n",
       "3       0.40      9.9        6  \n",
       "4       0.40      9.9        6  "
      ]
     },
     "execution_count": 74,
     "metadata": {},
     "output_type": "execute_result"
    }
   ],
   "source": [
    "df = pd.read_csv(\"/kaggle/input/wine-quality1/wine Proj.csv\")\n",
    "df.head()"
   ]
  },
  {
   "cell_type": "code",
   "execution_count": 75,
   "metadata": {
    "execution": {
     "iopub.execute_input": "2023-08-10T04:50:44.114440Z",
     "iopub.status.busy": "2023-08-10T04:50:44.114053Z",
     "iopub.status.idle": "2023-08-10T04:50:44.139040Z",
     "shell.execute_reply": "2023-08-10T04:50:44.137844Z",
     "shell.execute_reply.started": "2023-08-10T04:50:44.114410Z"
    }
   },
   "outputs": [
    {
     "data": {
      "text/html": [
       "<div>\n",
       "<style scoped>\n",
       "    .dataframe tbody tr th:only-of-type {\n",
       "        vertical-align: middle;\n",
       "    }\n",
       "\n",
       "    .dataframe tbody tr th {\n",
       "        vertical-align: top;\n",
       "    }\n",
       "\n",
       "    .dataframe thead th {\n",
       "        text-align: right;\n",
       "    }\n",
       "</style>\n",
       "<table border=\"1\" class=\"dataframe\">\n",
       "  <thead>\n",
       "    <tr style=\"text-align: right;\">\n",
       "      <th></th>\n",
       "      <th>type</th>\n",
       "      <th>fixed acidity</th>\n",
       "      <th>volatile acidity</th>\n",
       "      <th>citric acid</th>\n",
       "      <th>residual sugar</th>\n",
       "      <th>chlorides</th>\n",
       "      <th>free sulfur dioxide</th>\n",
       "      <th>total sulfur dioxide</th>\n",
       "      <th>density</th>\n",
       "      <th>pH</th>\n",
       "      <th>sulphates</th>\n",
       "      <th>alcohol</th>\n",
       "      <th>quality</th>\n",
       "    </tr>\n",
       "  </thead>\n",
       "  <tbody>\n",
       "    <tr>\n",
       "      <th>6479</th>\n",
       "      <td>red</td>\n",
       "      <td>6.2</td>\n",
       "      <td>0.560</td>\n",
       "      <td>0.09</td>\n",
       "      <td>1.7</td>\n",
       "      <td>0.053</td>\n",
       "      <td>24.0</td>\n",
       "      <td>32.0</td>\n",
       "      <td>0.99402</td>\n",
       "      <td>3.54</td>\n",
       "      <td>0.60</td>\n",
       "      <td>11.3</td>\n",
       "      <td>5</td>\n",
       "    </tr>\n",
       "    <tr>\n",
       "      <th>6480</th>\n",
       "      <td>red</td>\n",
       "      <td>6.1</td>\n",
       "      <td>0.715</td>\n",
       "      <td>0.10</td>\n",
       "      <td>2.6</td>\n",
       "      <td>0.053</td>\n",
       "      <td>13.0</td>\n",
       "      <td>27.0</td>\n",
       "      <td>0.99362</td>\n",
       "      <td>3.57</td>\n",
       "      <td>0.50</td>\n",
       "      <td>11.9</td>\n",
       "      <td>5</td>\n",
       "    </tr>\n",
       "    <tr>\n",
       "      <th>6481</th>\n",
       "      <td>red</td>\n",
       "      <td>6.2</td>\n",
       "      <td>0.460</td>\n",
       "      <td>0.29</td>\n",
       "      <td>2.1</td>\n",
       "      <td>0.074</td>\n",
       "      <td>32.0</td>\n",
       "      <td>98.0</td>\n",
       "      <td>0.99578</td>\n",
       "      <td>3.33</td>\n",
       "      <td>0.62</td>\n",
       "      <td>9.8</td>\n",
       "      <td>5</td>\n",
       "    </tr>\n",
       "    <tr>\n",
       "      <th>6482</th>\n",
       "      <td>red</td>\n",
       "      <td>6.7</td>\n",
       "      <td>0.320</td>\n",
       "      <td>0.44</td>\n",
       "      <td>2.4</td>\n",
       "      <td>0.061</td>\n",
       "      <td>24.0</td>\n",
       "      <td>34.0</td>\n",
       "      <td>0.99484</td>\n",
       "      <td>3.29</td>\n",
       "      <td>0.80</td>\n",
       "      <td>11.6</td>\n",
       "      <td>7</td>\n",
       "    </tr>\n",
       "    <tr>\n",
       "      <th>6483</th>\n",
       "      <td>red</td>\n",
       "      <td>7.2</td>\n",
       "      <td>0.390</td>\n",
       "      <td>0.44</td>\n",
       "      <td>2.6</td>\n",
       "      <td>0.066</td>\n",
       "      <td>22.0</td>\n",
       "      <td>48.0</td>\n",
       "      <td>0.99494</td>\n",
       "      <td>3.30</td>\n",
       "      <td>0.84</td>\n",
       "      <td>11.5</td>\n",
       "      <td>6</td>\n",
       "    </tr>\n",
       "  </tbody>\n",
       "</table>\n",
       "</div>"
      ],
      "text/plain": [
       "     type  fixed acidity  volatile acidity  citric acid  residual sugar  \\\n",
       "6479  red            6.2             0.560         0.09             1.7   \n",
       "6480  red            6.1             0.715         0.10             2.6   \n",
       "6481  red            6.2             0.460         0.29             2.1   \n",
       "6482  red            6.7             0.320         0.44             2.4   \n",
       "6483  red            7.2             0.390         0.44             2.6   \n",
       "\n",
       "      chlorides  free sulfur dioxide  total sulfur dioxide  density    pH  \\\n",
       "6479      0.053                 24.0                  32.0  0.99402  3.54   \n",
       "6480      0.053                 13.0                  27.0  0.99362  3.57   \n",
       "6481      0.074                 32.0                  98.0  0.99578  3.33   \n",
       "6482      0.061                 24.0                  34.0  0.99484  3.29   \n",
       "6483      0.066                 22.0                  48.0  0.99494  3.30   \n",
       "\n",
       "      sulphates  alcohol  quality  \n",
       "6479       0.60     11.3        5  \n",
       "6480       0.50     11.9        5  \n",
       "6481       0.62      9.8        5  \n",
       "6482       0.80     11.6        7  \n",
       "6483       0.84     11.5        6  "
      ]
     },
     "execution_count": 75,
     "metadata": {},
     "output_type": "execute_result"
    }
   ],
   "source": [
    "# show bottom 5 records only\n",
    "df.tail()"
   ]
  },
  {
   "cell_type": "code",
   "execution_count": 76,
   "metadata": {
    "execution": {
     "iopub.execute_input": "2023-08-10T04:50:47.102668Z",
     "iopub.status.busy": "2023-08-10T04:50:47.102274Z",
     "iopub.status.idle": "2023-08-10T04:50:47.161031Z",
     "shell.execute_reply": "2023-08-10T04:50:47.159674Z",
     "shell.execute_reply.started": "2023-08-10T04:50:47.102637Z"
    }
   },
   "outputs": [
    {
     "data": {
      "text/html": [
       "<div>\n",
       "<style scoped>\n",
       "    .dataframe tbody tr th:only-of-type {\n",
       "        vertical-align: middle;\n",
       "    }\n",
       "\n",
       "    .dataframe tbody tr th {\n",
       "        vertical-align: top;\n",
       "    }\n",
       "\n",
       "    .dataframe thead th {\n",
       "        text-align: right;\n",
       "    }\n",
       "</style>\n",
       "<table border=\"1\" class=\"dataframe\">\n",
       "  <thead>\n",
       "    <tr style=\"text-align: right;\">\n",
       "      <th></th>\n",
       "      <th>fixed acidity</th>\n",
       "      <th>volatile acidity</th>\n",
       "      <th>citric acid</th>\n",
       "      <th>residual sugar</th>\n",
       "      <th>chlorides</th>\n",
       "      <th>free sulfur dioxide</th>\n",
       "      <th>total sulfur dioxide</th>\n",
       "      <th>density</th>\n",
       "      <th>pH</th>\n",
       "      <th>sulphates</th>\n",
       "      <th>alcohol</th>\n",
       "      <th>quality</th>\n",
       "    </tr>\n",
       "  </thead>\n",
       "  <tbody>\n",
       "    <tr>\n",
       "      <th>count</th>\n",
       "      <td>6474.000000</td>\n",
       "      <td>6477.000000</td>\n",
       "      <td>6481.000000</td>\n",
       "      <td>6482.000000</td>\n",
       "      <td>6482.000000</td>\n",
       "      <td>6484.000000</td>\n",
       "      <td>6484.000000</td>\n",
       "      <td>6484.000000</td>\n",
       "      <td>6475.000000</td>\n",
       "      <td>6481.000000</td>\n",
       "      <td>6484.000000</td>\n",
       "      <td>6484.000000</td>\n",
       "    </tr>\n",
       "    <tr>\n",
       "      <th>mean</th>\n",
       "      <td>7.218373</td>\n",
       "      <td>0.339289</td>\n",
       "      <td>0.318991</td>\n",
       "      <td>5.449954</td>\n",
       "      <td>0.056007</td>\n",
       "      <td>30.530999</td>\n",
       "      <td>115.883020</td>\n",
       "      <td>0.994696</td>\n",
       "      <td>3.217964</td>\n",
       "      <td>0.530890</td>\n",
       "      <td>10.490952</td>\n",
       "      <td>5.819402</td>\n",
       "    </tr>\n",
       "    <tr>\n",
       "      <th>std</th>\n",
       "      <td>1.297190</td>\n",
       "      <td>0.164440</td>\n",
       "      <td>0.145175</td>\n",
       "      <td>4.760719</td>\n",
       "      <td>0.035061</td>\n",
       "      <td>17.764290</td>\n",
       "      <td>56.488804</td>\n",
       "      <td>0.003001</td>\n",
       "      <td>0.160541</td>\n",
       "      <td>0.148695</td>\n",
       "      <td>1.193080</td>\n",
       "      <td>0.877286</td>\n",
       "    </tr>\n",
       "    <tr>\n",
       "      <th>min</th>\n",
       "      <td>3.800000</td>\n",
       "      <td>0.080000</td>\n",
       "      <td>0.000000</td>\n",
       "      <td>0.600000</td>\n",
       "      <td>0.009000</td>\n",
       "      <td>1.000000</td>\n",
       "      <td>6.000000</td>\n",
       "      <td>0.987110</td>\n",
       "      <td>2.720000</td>\n",
       "      <td>0.220000</td>\n",
       "      <td>8.000000</td>\n",
       "      <td>3.000000</td>\n",
       "    </tr>\n",
       "    <tr>\n",
       "      <th>25%</th>\n",
       "      <td>6.400000</td>\n",
       "      <td>0.230000</td>\n",
       "      <td>0.250000</td>\n",
       "      <td>1.800000</td>\n",
       "      <td>0.038000</td>\n",
       "      <td>17.000000</td>\n",
       "      <td>78.000000</td>\n",
       "      <td>0.992320</td>\n",
       "      <td>3.110000</td>\n",
       "      <td>0.430000</td>\n",
       "      <td>9.500000</td>\n",
       "      <td>5.000000</td>\n",
       "    </tr>\n",
       "    <tr>\n",
       "      <th>50%</th>\n",
       "      <td>7.000000</td>\n",
       "      <td>0.290000</td>\n",
       "      <td>0.310000</td>\n",
       "      <td>3.000000</td>\n",
       "      <td>0.047000</td>\n",
       "      <td>29.000000</td>\n",
       "      <td>118.000000</td>\n",
       "      <td>0.994880</td>\n",
       "      <td>3.210000</td>\n",
       "      <td>0.510000</td>\n",
       "      <td>10.300000</td>\n",
       "      <td>6.000000</td>\n",
       "    </tr>\n",
       "    <tr>\n",
       "      <th>75%</th>\n",
       "      <td>7.700000</td>\n",
       "      <td>0.400000</td>\n",
       "      <td>0.390000</td>\n",
       "      <td>8.100000</td>\n",
       "      <td>0.065000</td>\n",
       "      <td>41.000000</td>\n",
       "      <td>156.000000</td>\n",
       "      <td>0.996993</td>\n",
       "      <td>3.320000</td>\n",
       "      <td>0.600000</td>\n",
       "      <td>11.300000</td>\n",
       "      <td>6.000000</td>\n",
       "    </tr>\n",
       "    <tr>\n",
       "      <th>max</th>\n",
       "      <td>15.900000</td>\n",
       "      <td>1.580000</td>\n",
       "      <td>1.660000</td>\n",
       "      <td>65.800000</td>\n",
       "      <td>0.611000</td>\n",
       "      <td>289.000000</td>\n",
       "      <td>440.000000</td>\n",
       "      <td>1.038980</td>\n",
       "      <td>4.010000</td>\n",
       "      <td>2.000000</td>\n",
       "      <td>14.900000</td>\n",
       "      <td>12.000000</td>\n",
       "    </tr>\n",
       "  </tbody>\n",
       "</table>\n",
       "</div>"
      ],
      "text/plain": [
       "       fixed acidity  volatile acidity  citric acid  residual sugar  \\\n",
       "count    6474.000000       6477.000000  6481.000000     6482.000000   \n",
       "mean        7.218373          0.339289     0.318991        5.449954   \n",
       "std         1.297190          0.164440     0.145175        4.760719   \n",
       "min         3.800000          0.080000     0.000000        0.600000   \n",
       "25%         6.400000          0.230000     0.250000        1.800000   \n",
       "50%         7.000000          0.290000     0.310000        3.000000   \n",
       "75%         7.700000          0.400000     0.390000        8.100000   \n",
       "max        15.900000          1.580000     1.660000       65.800000   \n",
       "\n",
       "         chlorides  free sulfur dioxide  total sulfur dioxide      density  \\\n",
       "count  6482.000000          6484.000000           6484.000000  6484.000000   \n",
       "mean      0.056007            30.530999            115.883020     0.994696   \n",
       "std       0.035061            17.764290             56.488804     0.003001   \n",
       "min       0.009000             1.000000              6.000000     0.987110   \n",
       "25%       0.038000            17.000000             78.000000     0.992320   \n",
       "50%       0.047000            29.000000            118.000000     0.994880   \n",
       "75%       0.065000            41.000000            156.000000     0.996993   \n",
       "max       0.611000           289.000000            440.000000     1.038980   \n",
       "\n",
       "                pH    sulphates      alcohol      quality  \n",
       "count  6475.000000  6481.000000  6484.000000  6484.000000  \n",
       "mean      3.217964     0.530890    10.490952     5.819402  \n",
       "std       0.160541     0.148695     1.193080     0.877286  \n",
       "min       2.720000     0.220000     8.000000     3.000000  \n",
       "25%       3.110000     0.430000     9.500000     5.000000  \n",
       "50%       3.210000     0.510000    10.300000     6.000000  \n",
       "75%       3.320000     0.600000    11.300000     6.000000  \n",
       "max       4.010000     2.000000    14.900000    12.000000  "
      ]
     },
     "execution_count": 76,
     "metadata": {},
     "output_type": "execute_result"
    }
   ],
   "source": [
    "df.describe()"
   ]
  },
  {
   "cell_type": "code",
   "execution_count": 77,
   "metadata": {
    "execution": {
     "iopub.execute_input": "2023-08-10T04:50:49.340616Z",
     "iopub.status.busy": "2023-08-10T04:50:49.340239Z",
     "iopub.status.idle": "2023-08-10T04:50:49.358301Z",
     "shell.execute_reply": "2023-08-10T04:50:49.357035Z",
     "shell.execute_reply.started": "2023-08-10T04:50:49.340587Z"
    }
   },
   "outputs": [
    {
     "name": "stdout",
     "output_type": "stream",
     "text": [
      "<class 'pandas.core.frame.DataFrame'>\n",
      "RangeIndex: 6484 entries, 0 to 6483\n",
      "Data columns (total 13 columns):\n",
      " #   Column                Non-Null Count  Dtype  \n",
      "---  ------                --------------  -----  \n",
      " 0   type                  6484 non-null   object \n",
      " 1   fixed acidity         6474 non-null   float64\n",
      " 2   volatile acidity      6477 non-null   float64\n",
      " 3   citric acid           6481 non-null   float64\n",
      " 4   residual sugar        6482 non-null   float64\n",
      " 5   chlorides             6482 non-null   float64\n",
      " 6   free sulfur dioxide   6484 non-null   float64\n",
      " 7   total sulfur dioxide  6484 non-null   float64\n",
      " 8   density               6484 non-null   float64\n",
      " 9   pH                    6475 non-null   float64\n",
      " 10  sulphates             6481 non-null   float64\n",
      " 11  alcohol               6484 non-null   float64\n",
      " 12  quality               6484 non-null   int64  \n",
      "dtypes: float64(11), int64(1), object(1)\n",
      "memory usage: 658.7+ KB\n"
     ]
    }
   ],
   "source": [
    "df.info()"
   ]
  },
  {
   "cell_type": "code",
   "execution_count": 147,
   "metadata": {
    "execution": {
     "iopub.execute_input": "2023-08-10T04:59:06.836148Z",
     "iopub.status.busy": "2023-08-10T04:59:06.835608Z",
     "iopub.status.idle": "2023-08-10T04:59:06.843650Z",
     "shell.execute_reply": "2023-08-10T04:59:06.842679Z",
     "shell.execute_reply.started": "2023-08-10T04:59:06.836108Z"
    }
   },
   "outputs": [
    {
     "data": {
      "text/plain": [
       "Index(['type', 'fixed acidity', 'volatile acidity', 'citric acid',\n",
       "       'residual sugar', 'chlorides', 'free sulfur dioxide',\n",
       "       'total sulfur dioxide', 'density', 'pH', 'sulphates', 'alcohol',\n",
       "       'quality'],\n",
       "      dtype='object')"
      ]
     },
     "execution_count": 147,
     "metadata": {},
     "output_type": "execute_result"
    }
   ],
   "source": [
    "# show all columns present in your dataset\n",
    "df.columns"
   ]
  },
  {
   "cell_type": "code",
   "execution_count": 148,
   "metadata": {
    "execution": {
     "iopub.execute_input": "2023-08-10T05:00:12.513296Z",
     "iopub.status.busy": "2023-08-10T05:00:12.512793Z",
     "iopub.status.idle": "2023-08-10T05:00:12.523681Z",
     "shell.execute_reply": "2023-08-10T05:00:12.522221Z",
     "shell.execute_reply.started": "2023-08-10T05:00:12.513261Z"
    }
   },
   "outputs": [
    {
     "data": {
      "text/plain": [
       "type                     object\n",
       "fixed acidity           float64\n",
       "volatile acidity        float64\n",
       "citric acid             float64\n",
       "residual sugar          float64\n",
       "chlorides               float64\n",
       "free sulfur dioxide     float64\n",
       "total sulfur dioxide    float64\n",
       "density                 float64\n",
       "pH                      float64\n",
       "sulphates               float64\n",
       "alcohol                 float64\n",
       "quality                   int64\n",
       "dtype: object"
      ]
     },
     "execution_count": 148,
     "metadata": {},
     "output_type": "execute_result"
    }
   ],
   "source": [
    "#Show datatypes of each columns\n",
    "df.dtypes"
   ]
  },
  {
   "cell_type": "code",
   "execution_count": 149,
   "metadata": {
    "execution": {
     "iopub.execute_input": "2023-08-10T05:01:06.018402Z",
     "iopub.status.busy": "2023-08-10T05:01:06.017948Z",
     "iopub.status.idle": "2023-08-10T05:01:06.025799Z",
     "shell.execute_reply": "2023-08-10T05:01:06.024949Z",
     "shell.execute_reply.started": "2023-08-10T05:01:06.018364Z"
    }
   },
   "outputs": [
    {
     "data": {
      "text/plain": [
       "(6484, 13)"
      ]
     },
     "execution_count": 149,
     "metadata": {},
     "output_type": "execute_result"
    }
   ],
   "source": [
    "df.shape"
   ]
  },
  {
   "cell_type": "code",
   "execution_count": 153,
   "metadata": {
    "execution": {
     "iopub.execute_input": "2023-08-10T05:03:13.498065Z",
     "iopub.status.busy": "2023-08-10T05:03:13.497611Z",
     "iopub.status.idle": "2023-08-10T05:03:13.511777Z",
     "shell.execute_reply": "2023-08-10T05:03:13.510430Z",
     "shell.execute_reply.started": "2023-08-10T05:03:13.498020Z"
    }
   },
   "outputs": [
    {
     "data": {
      "text/plain": [
       "0    False\n",
       "1    False\n",
       "2    False\n",
       "3    False\n",
       "4     True\n",
       "dtype: bool"
      ]
     },
     "execution_count": 153,
     "metadata": {},
     "output_type": "execute_result"
    }
   ],
   "source": [
    "df.duplicated().head()"
   ]
  },
  {
   "cell_type": "code",
   "execution_count": 156,
   "metadata": {
    "execution": {
     "iopub.execute_input": "2023-08-10T05:04:08.296330Z",
     "iopub.status.busy": "2023-08-10T05:04:08.295929Z",
     "iopub.status.idle": "2023-08-10T05:04:08.327143Z",
     "shell.execute_reply": "2023-08-10T05:04:08.326273Z",
     "shell.execute_reply.started": "2023-08-10T05:04:08.296300Z"
    }
   },
   "outputs": [
    {
     "data": {
      "text/html": [
       "<div>\n",
       "<style scoped>\n",
       "    .dataframe tbody tr th:only-of-type {\n",
       "        vertical-align: middle;\n",
       "    }\n",
       "\n",
       "    .dataframe tbody tr th {\n",
       "        vertical-align: top;\n",
       "    }\n",
       "\n",
       "    .dataframe thead th {\n",
       "        text-align: right;\n",
       "    }\n",
       "</style>\n",
       "<table border=\"1\" class=\"dataframe\">\n",
       "  <thead>\n",
       "    <tr style=\"text-align: right;\">\n",
       "      <th></th>\n",
       "      <th>type</th>\n",
       "      <th>fixed acidity</th>\n",
       "      <th>volatile acidity</th>\n",
       "      <th>citric acid</th>\n",
       "      <th>residual sugar</th>\n",
       "      <th>chlorides</th>\n",
       "      <th>free sulfur dioxide</th>\n",
       "      <th>total sulfur dioxide</th>\n",
       "      <th>density</th>\n",
       "      <th>pH</th>\n",
       "      <th>sulphates</th>\n",
       "      <th>alcohol</th>\n",
       "      <th>quality</th>\n",
       "    </tr>\n",
       "  </thead>\n",
       "  <tbody>\n",
       "    <tr>\n",
       "      <th>4</th>\n",
       "      <td>white</td>\n",
       "      <td>7.2</td>\n",
       "      <td>0.23</td>\n",
       "      <td>0.32</td>\n",
       "      <td>8.50</td>\n",
       "      <td>0.058</td>\n",
       "      <td>47.0</td>\n",
       "      <td>186.0</td>\n",
       "      <td>0.9956</td>\n",
       "      <td>3.19</td>\n",
       "      <td>0.40</td>\n",
       "      <td>9.9</td>\n",
       "      <td>6</td>\n",
       "    </tr>\n",
       "    <tr>\n",
       "      <th>8</th>\n",
       "      <td>white</td>\n",
       "      <td>6.3</td>\n",
       "      <td>0.30</td>\n",
       "      <td>0.34</td>\n",
       "      <td>1.60</td>\n",
       "      <td>0.049</td>\n",
       "      <td>14.0</td>\n",
       "      <td>132.0</td>\n",
       "      <td>0.9940</td>\n",
       "      <td>3.30</td>\n",
       "      <td>0.49</td>\n",
       "      <td>9.5</td>\n",
       "      <td>6</td>\n",
       "    </tr>\n",
       "    <tr>\n",
       "      <th>39</th>\n",
       "      <td>white</td>\n",
       "      <td>7.3</td>\n",
       "      <td>0.24</td>\n",
       "      <td>0.39</td>\n",
       "      <td>17.95</td>\n",
       "      <td>0.057</td>\n",
       "      <td>45.0</td>\n",
       "      <td>149.0</td>\n",
       "      <td>0.9999</td>\n",
       "      <td>3.21</td>\n",
       "      <td>0.36</td>\n",
       "      <td>8.6</td>\n",
       "      <td>5</td>\n",
       "    </tr>\n",
       "    <tr>\n",
       "      <th>48</th>\n",
       "      <td>white</td>\n",
       "      <td>7.0</td>\n",
       "      <td>0.31</td>\n",
       "      <td>0.26</td>\n",
       "      <td>7.40</td>\n",
       "      <td>0.069</td>\n",
       "      <td>28.0</td>\n",
       "      <td>160.0</td>\n",
       "      <td>0.9954</td>\n",
       "      <td>3.13</td>\n",
       "      <td>0.46</td>\n",
       "      <td>9.8</td>\n",
       "      <td>6</td>\n",
       "    </tr>\n",
       "    <tr>\n",
       "      <th>61</th>\n",
       "      <td>white</td>\n",
       "      <td>6.0</td>\n",
       "      <td>0.19</td>\n",
       "      <td>0.26</td>\n",
       "      <td>12.40</td>\n",
       "      <td>0.048</td>\n",
       "      <td>50.0</td>\n",
       "      <td>147.0</td>\n",
       "      <td>0.9972</td>\n",
       "      <td>3.30</td>\n",
       "      <td>0.36</td>\n",
       "      <td>8.9</td>\n",
       "      <td>6</td>\n",
       "    </tr>\n",
       "  </tbody>\n",
       "</table>\n",
       "</div>"
      ],
      "text/plain": [
       "     type  fixed acidity  volatile acidity  citric acid  residual sugar  \\\n",
       "4   white            7.2              0.23         0.32            8.50   \n",
       "8   white            6.3              0.30         0.34            1.60   \n",
       "39  white            7.3              0.24         0.39           17.95   \n",
       "48  white            7.0              0.31         0.26            7.40   \n",
       "61  white            6.0              0.19         0.26           12.40   \n",
       "\n",
       "    chlorides  free sulfur dioxide  total sulfur dioxide  density    pH  \\\n",
       "4       0.058                 47.0                 186.0   0.9956  3.19   \n",
       "8       0.049                 14.0                 132.0   0.9940  3.30   \n",
       "39      0.057                 45.0                 149.0   0.9999  3.21   \n",
       "48      0.069                 28.0                 160.0   0.9954  3.13   \n",
       "61      0.048                 50.0                 147.0   0.9972  3.30   \n",
       "\n",
       "    sulphates  alcohol  quality  \n",
       "4        0.40      9.9        6  \n",
       "8        0.49      9.5        6  \n",
       "39       0.36      8.6        5  \n",
       "48       0.46      9.8        6  \n",
       "61       0.36      8.9        6  "
      ]
     },
     "execution_count": 156,
     "metadata": {},
     "output_type": "execute_result"
    }
   ],
   "source": [
    "df.loc[df.duplicated()].head()"
   ]
  },
  {
   "cell_type": "code",
   "execution_count": 157,
   "metadata": {
    "execution": {
     "iopub.execute_input": "2023-08-10T05:05:03.777566Z",
     "iopub.status.busy": "2023-08-10T05:05:03.777145Z",
     "iopub.status.idle": "2023-08-10T05:05:03.812317Z",
     "shell.execute_reply": "2023-08-10T05:05:03.811116Z",
     "shell.execute_reply.started": "2023-08-10T05:05:03.777536Z"
    }
   },
   "outputs": [
    {
     "data": {
      "text/html": [
       "<div>\n",
       "<style scoped>\n",
       "    .dataframe tbody tr th:only-of-type {\n",
       "        vertical-align: middle;\n",
       "    }\n",
       "\n",
       "    .dataframe tbody tr th {\n",
       "        vertical-align: top;\n",
       "    }\n",
       "\n",
       "    .dataframe thead th {\n",
       "        text-align: right;\n",
       "    }\n",
       "</style>\n",
       "<table border=\"1\" class=\"dataframe\">\n",
       "  <thead>\n",
       "    <tr style=\"text-align: right;\">\n",
       "      <th></th>\n",
       "      <th>type</th>\n",
       "      <th>fixed acidity</th>\n",
       "      <th>volatile acidity</th>\n",
       "      <th>citric acid</th>\n",
       "      <th>residual sugar</th>\n",
       "      <th>chlorides</th>\n",
       "      <th>free sulfur dioxide</th>\n",
       "      <th>total sulfur dioxide</th>\n",
       "      <th>density</th>\n",
       "      <th>pH</th>\n",
       "      <th>sulphates</th>\n",
       "      <th>alcohol</th>\n",
       "      <th>quality</th>\n",
       "    </tr>\n",
       "  </thead>\n",
       "  <tbody>\n",
       "    <tr>\n",
       "      <th>1</th>\n",
       "      <td>white</td>\n",
       "      <td>6.3</td>\n",
       "      <td>0.300</td>\n",
       "      <td>0.34</td>\n",
       "      <td>1.6</td>\n",
       "      <td>0.049</td>\n",
       "      <td>14.0</td>\n",
       "      <td>132.0</td>\n",
       "      <td>0.99400</td>\n",
       "      <td>3.30</td>\n",
       "      <td>0.49</td>\n",
       "      <td>9.5</td>\n",
       "      <td>6</td>\n",
       "    </tr>\n",
       "    <tr>\n",
       "      <th>2</th>\n",
       "      <td>white</td>\n",
       "      <td>8.1</td>\n",
       "      <td>0.280</td>\n",
       "      <td>0.40</td>\n",
       "      <td>6.9</td>\n",
       "      <td>0.050</td>\n",
       "      <td>30.0</td>\n",
       "      <td>97.0</td>\n",
       "      <td>0.99510</td>\n",
       "      <td>3.26</td>\n",
       "      <td>0.44</td>\n",
       "      <td>10.1</td>\n",
       "      <td>6</td>\n",
       "    </tr>\n",
       "    <tr>\n",
       "      <th>3</th>\n",
       "      <td>white</td>\n",
       "      <td>7.2</td>\n",
       "      <td>0.230</td>\n",
       "      <td>0.32</td>\n",
       "      <td>8.5</td>\n",
       "      <td>0.058</td>\n",
       "      <td>47.0</td>\n",
       "      <td>186.0</td>\n",
       "      <td>0.99560</td>\n",
       "      <td>3.19</td>\n",
       "      <td>0.40</td>\n",
       "      <td>9.9</td>\n",
       "      <td>6</td>\n",
       "    </tr>\n",
       "    <tr>\n",
       "      <th>4</th>\n",
       "      <td>white</td>\n",
       "      <td>7.2</td>\n",
       "      <td>0.230</td>\n",
       "      <td>0.32</td>\n",
       "      <td>8.5</td>\n",
       "      <td>0.058</td>\n",
       "      <td>47.0</td>\n",
       "      <td>186.0</td>\n",
       "      <td>0.99560</td>\n",
       "      <td>3.19</td>\n",
       "      <td>0.40</td>\n",
       "      <td>9.9</td>\n",
       "      <td>6</td>\n",
       "    </tr>\n",
       "    <tr>\n",
       "      <th>5</th>\n",
       "      <td>white</td>\n",
       "      <td>8.1</td>\n",
       "      <td>0.280</td>\n",
       "      <td>0.40</td>\n",
       "      <td>6.9</td>\n",
       "      <td>0.050</td>\n",
       "      <td>30.0</td>\n",
       "      <td>92.0</td>\n",
       "      <td>0.99510</td>\n",
       "      <td>3.26</td>\n",
       "      <td>0.44</td>\n",
       "      <td>10.1</td>\n",
       "      <td>6</td>\n",
       "    </tr>\n",
       "    <tr>\n",
       "      <th>...</th>\n",
       "      <td>...</td>\n",
       "      <td>...</td>\n",
       "      <td>...</td>\n",
       "      <td>...</td>\n",
       "      <td>...</td>\n",
       "      <td>...</td>\n",
       "      <td>...</td>\n",
       "      <td>...</td>\n",
       "      <td>...</td>\n",
       "      <td>...</td>\n",
       "      <td>...</td>\n",
       "      <td>...</td>\n",
       "      <td>...</td>\n",
       "    </tr>\n",
       "    <tr>\n",
       "      <th>6479</th>\n",
       "      <td>red</td>\n",
       "      <td>6.2</td>\n",
       "      <td>0.560</td>\n",
       "      <td>0.09</td>\n",
       "      <td>1.7</td>\n",
       "      <td>0.053</td>\n",
       "      <td>24.0</td>\n",
       "      <td>32.0</td>\n",
       "      <td>0.99402</td>\n",
       "      <td>3.54</td>\n",
       "      <td>0.60</td>\n",
       "      <td>11.3</td>\n",
       "      <td>5</td>\n",
       "    </tr>\n",
       "    <tr>\n",
       "      <th>6480</th>\n",
       "      <td>red</td>\n",
       "      <td>6.1</td>\n",
       "      <td>0.715</td>\n",
       "      <td>0.10</td>\n",
       "      <td>2.6</td>\n",
       "      <td>0.053</td>\n",
       "      <td>13.0</td>\n",
       "      <td>27.0</td>\n",
       "      <td>0.99362</td>\n",
       "      <td>3.57</td>\n",
       "      <td>0.50</td>\n",
       "      <td>11.9</td>\n",
       "      <td>5</td>\n",
       "    </tr>\n",
       "    <tr>\n",
       "      <th>6481</th>\n",
       "      <td>red</td>\n",
       "      <td>6.2</td>\n",
       "      <td>0.460</td>\n",
       "      <td>0.29</td>\n",
       "      <td>2.1</td>\n",
       "      <td>0.074</td>\n",
       "      <td>32.0</td>\n",
       "      <td>98.0</td>\n",
       "      <td>0.99578</td>\n",
       "      <td>3.33</td>\n",
       "      <td>0.62</td>\n",
       "      <td>9.8</td>\n",
       "      <td>5</td>\n",
       "    </tr>\n",
       "    <tr>\n",
       "      <th>6482</th>\n",
       "      <td>red</td>\n",
       "      <td>6.7</td>\n",
       "      <td>0.320</td>\n",
       "      <td>0.44</td>\n",
       "      <td>2.4</td>\n",
       "      <td>0.061</td>\n",
       "      <td>24.0</td>\n",
       "      <td>34.0</td>\n",
       "      <td>0.99484</td>\n",
       "      <td>3.29</td>\n",
       "      <td>0.80</td>\n",
       "      <td>11.6</td>\n",
       "      <td>7</td>\n",
       "    </tr>\n",
       "    <tr>\n",
       "      <th>6483</th>\n",
       "      <td>red</td>\n",
       "      <td>7.2</td>\n",
       "      <td>0.390</td>\n",
       "      <td>0.44</td>\n",
       "      <td>2.6</td>\n",
       "      <td>0.066</td>\n",
       "      <td>22.0</td>\n",
       "      <td>48.0</td>\n",
       "      <td>0.99494</td>\n",
       "      <td>3.30</td>\n",
       "      <td>0.84</td>\n",
       "      <td>11.5</td>\n",
       "      <td>6</td>\n",
       "    </tr>\n",
       "  </tbody>\n",
       "</table>\n",
       "<p>6482 rows × 13 columns</p>\n",
       "</div>"
      ],
      "text/plain": [
       "       type  fixed acidity  volatile acidity  citric acid  residual sugar  \\\n",
       "1     white            6.3             0.300         0.34             1.6   \n",
       "2     white            8.1             0.280         0.40             6.9   \n",
       "3     white            7.2             0.230         0.32             8.5   \n",
       "4     white            7.2             0.230         0.32             8.5   \n",
       "5     white            8.1             0.280         0.40             6.9   \n",
       "...     ...            ...               ...          ...             ...   \n",
       "6479    red            6.2             0.560         0.09             1.7   \n",
       "6480    red            6.1             0.715         0.10             2.6   \n",
       "6481    red            6.2             0.460         0.29             2.1   \n",
       "6482    red            6.7             0.320         0.44             2.4   \n",
       "6483    red            7.2             0.390         0.44             2.6   \n",
       "\n",
       "      chlorides  free sulfur dioxide  total sulfur dioxide  density    pH  \\\n",
       "1         0.049                 14.0                 132.0  0.99400  3.30   \n",
       "2         0.050                 30.0                  97.0  0.99510  3.26   \n",
       "3         0.058                 47.0                 186.0  0.99560  3.19   \n",
       "4         0.058                 47.0                 186.0  0.99560  3.19   \n",
       "5         0.050                 30.0                  92.0  0.99510  3.26   \n",
       "...         ...                  ...                   ...      ...   ...   \n",
       "6479      0.053                 24.0                  32.0  0.99402  3.54   \n",
       "6480      0.053                 13.0                  27.0  0.99362  3.57   \n",
       "6481      0.074                 32.0                  98.0  0.99578  3.33   \n",
       "6482      0.061                 24.0                  34.0  0.99484  3.29   \n",
       "6483      0.066                 22.0                  48.0  0.99494  3.30   \n",
       "\n",
       "      sulphates  alcohol  quality  \n",
       "1          0.49      9.5        6  \n",
       "2          0.44     10.1        6  \n",
       "3          0.40      9.9        6  \n",
       "4          0.40      9.9        6  \n",
       "5          0.44     10.1        6  \n",
       "...         ...      ...      ...  \n",
       "6479       0.60     11.3        5  \n",
       "6480       0.50     11.9        5  \n",
       "6481       0.62      9.8        5  \n",
       "6482       0.80     11.6        7  \n",
       "6483       0.84     11.5        6  \n",
       "\n",
       "[6482 rows x 13 columns]"
      ]
     },
     "execution_count": 157,
     "metadata": {},
     "output_type": "execute_result"
    }
   ],
   "source": [
    "# identify rows with duplicate values in a specific column named 'type' within a DataFrame named 'df'.\n",
    "df.loc[df.duplicated(subset=['type'])]"
   ]
  },
  {
   "cell_type": "markdown",
   "metadata": {},
   "source": [
    "# DATA PROCESSING"
   ]
  },
  {
   "cell_type": "code",
   "execution_count": 78,
   "metadata": {
    "execution": {
     "iopub.execute_input": "2023-08-10T04:50:51.780496Z",
     "iopub.status.busy": "2023-08-10T04:50:51.780113Z",
     "iopub.status.idle": "2023-08-10T04:50:51.793081Z",
     "shell.execute_reply": "2023-08-10T04:50:51.791701Z",
     "shell.execute_reply.started": "2023-08-10T04:50:51.780466Z"
    }
   },
   "outputs": [
    {
     "data": {
      "text/plain": [
       "type                     0\n",
       "fixed acidity           10\n",
       "volatile acidity         7\n",
       "citric acid              3\n",
       "residual sugar           2\n",
       "chlorides                2\n",
       "free sulfur dioxide      0\n",
       "total sulfur dioxide     0\n",
       "density                  0\n",
       "pH                       9\n",
       "sulphates                3\n",
       "alcohol                  0\n",
       "quality                  0\n",
       "dtype: int64"
      ]
     },
     "execution_count": 78,
     "metadata": {},
     "output_type": "execute_result"
    }
   ],
   "source": [
    "#to calculate the number of missing (null) values in each column of a pandas DataFrame named 'df'.\n",
    "df.isnull().sum()"
   ]
  },
  {
   "cell_type": "code",
   "execution_count": 79,
   "metadata": {
    "execution": {
     "iopub.execute_input": "2023-08-10T04:50:55.449006Z",
     "iopub.status.busy": "2023-08-10T04:50:55.448587Z",
     "iopub.status.idle": "2023-08-10T04:50:55.460319Z",
     "shell.execute_reply": "2023-08-10T04:50:55.459071Z",
     "shell.execute_reply.started": "2023-08-10T04:50:55.448972Z"
    }
   },
   "outputs": [
    {
     "data": {
      "text/plain": [
       "6.80     353\n",
       "6.60     325\n",
       "6.40     305\n",
       "7.00     282\n",
       "6.90     279\n",
       "        ... \n",
       "3.90       1\n",
       "3.80       1\n",
       "6.45       1\n",
       "4.50       1\n",
       "12.10      1\n",
       "Name: fixed acidity, Length: 106, dtype: int64"
      ]
     },
     "execution_count": 79,
     "metadata": {},
     "output_type": "execute_result"
    }
   ],
   "source": [
    "# We have to fill the missing values\n",
    "#Return a Series containing counts of unique rows in the DataFrame.\n",
    "df[\"fixed acidity\"].value_counts()"
   ]
  },
  {
   "cell_type": "code",
   "execution_count": 80,
   "metadata": {
    "execution": {
     "iopub.execute_input": "2023-08-10T04:50:58.605042Z",
     "iopub.status.busy": "2023-08-10T04:50:58.604635Z",
     "iopub.status.idle": "2023-08-10T04:50:58.615165Z",
     "shell.execute_reply": "2023-08-10T04:50:58.613899Z",
     "shell.execute_reply.started": "2023-08-10T04:50:58.605008Z"
    }
   },
   "outputs": [
    {
     "data": {
      "text/plain": [
       "0"
      ]
     },
     "execution_count": 80,
     "metadata": {},
     "output_type": "execute_result"
    }
   ],
   "source": [
    "# impute with mean for numerical values and for categorical with mode\n",
    "#Fill NA/NaN values using the specified method.\n",
    "mean = df[\"fixed acidity\"].mean()\n",
    "df[\"fixed acidity\"].fillna(mean, inplace = True)\n",
    "df[\"fixed acidity\"].isnull().sum()"
   ]
  },
  {
   "cell_type": "code",
   "execution_count": 81,
   "metadata": {
    "execution": {
     "iopub.execute_input": "2023-08-10T04:51:01.476796Z",
     "iopub.status.busy": "2023-08-10T04:51:01.476394Z",
     "iopub.status.idle": "2023-08-10T04:51:01.487689Z",
     "shell.execute_reply": "2023-08-10T04:51:01.486584Z",
     "shell.execute_reply.started": "2023-08-10T04:51:01.476762Z"
    }
   },
   "outputs": [
    {
     "data": {
      "text/plain": [
       "0"
      ]
     },
     "execution_count": 81,
     "metadata": {},
     "output_type": "execute_result"
    }
   ],
   "source": [
    "mean2 = df[\"volatile acidity\"].mean()\n",
    "df[\"volatile acidity\"].fillna(mean, inplace = True)\n",
    "df[\"volatile acidity\"].isnull().sum()"
   ]
  },
  {
   "cell_type": "code",
   "execution_count": 82,
   "metadata": {
    "execution": {
     "iopub.execute_input": "2023-08-10T04:51:04.769252Z",
     "iopub.status.busy": "2023-08-10T04:51:04.768814Z",
     "iopub.status.idle": "2023-08-10T04:51:04.779637Z",
     "shell.execute_reply": "2023-08-10T04:51:04.778311Z",
     "shell.execute_reply.started": "2023-08-10T04:51:04.769218Z"
    }
   },
   "outputs": [
    {
     "data": {
      "text/plain": [
       "0"
      ]
     },
     "execution_count": 82,
     "metadata": {},
     "output_type": "execute_result"
    }
   ],
   "source": [
    "mean3 = df[\"citric acid\"].mean()\n",
    "df[\"citric acid\"].fillna(mean,inplace=True)\n",
    "df[\"citric acid\"].isnull().sum()"
   ]
  },
  {
   "cell_type": "code",
   "execution_count": 83,
   "metadata": {
    "execution": {
     "iopub.execute_input": "2023-08-10T04:51:07.348659Z",
     "iopub.status.busy": "2023-08-10T04:51:07.348232Z",
     "iopub.status.idle": "2023-08-10T04:51:07.359865Z",
     "shell.execute_reply": "2023-08-10T04:51:07.358808Z",
     "shell.execute_reply.started": "2023-08-10T04:51:07.348624Z"
    }
   },
   "outputs": [
    {
     "data": {
      "text/plain": [
       "0"
      ]
     },
     "execution_count": 83,
     "metadata": {},
     "output_type": "execute_result"
    }
   ],
   "source": [
    "mean5 = df[\"chlorides\"].mean()\n",
    "df[\"chlorides\"].fillna(mean,inplace=True)\n",
    "df[\"chlorides\"].isnull().sum()"
   ]
  },
  {
   "cell_type": "code",
   "execution_count": 84,
   "metadata": {
    "execution": {
     "iopub.execute_input": "2023-08-10T04:51:09.660401Z",
     "iopub.status.busy": "2023-08-10T04:51:09.660007Z",
     "iopub.status.idle": "2023-08-10T04:51:09.670129Z",
     "shell.execute_reply": "2023-08-10T04:51:09.668743Z",
     "shell.execute_reply.started": "2023-08-10T04:51:09.660371Z"
    }
   },
   "outputs": [
    {
     "data": {
      "text/plain": [
       "0"
      ]
     },
     "execution_count": 84,
     "metadata": {},
     "output_type": "execute_result"
    }
   ],
   "source": [
    "mean6 = df[\"pH\"].mean()\n",
    "df[\"pH\"].fillna(mean,inplace=True)\n",
    "df[\"pH\"].isnull().sum()"
   ]
  },
  {
   "cell_type": "code",
   "execution_count": 85,
   "metadata": {
    "execution": {
     "iopub.execute_input": "2023-08-10T04:51:12.021345Z",
     "iopub.status.busy": "2023-08-10T04:51:12.020704Z",
     "iopub.status.idle": "2023-08-10T04:51:12.029734Z",
     "shell.execute_reply": "2023-08-10T04:51:12.028864Z",
     "shell.execute_reply.started": "2023-08-10T04:51:12.021308Z"
    }
   },
   "outputs": [
    {
     "data": {
      "text/plain": [
       "0"
      ]
     },
     "execution_count": 85,
     "metadata": {},
     "output_type": "execute_result"
    }
   ],
   "source": [
    "mean7 = df[\"sulphates\"].mean()\n",
    "df[\"sulphates\"].fillna(mean,inplace=True)\n",
    "df[\"sulphates\"].isnull().sum()"
   ]
  },
  {
   "cell_type": "code",
   "execution_count": 86,
   "metadata": {
    "execution": {
     "iopub.execute_input": "2023-08-10T04:51:14.609918Z",
     "iopub.status.busy": "2023-08-10T04:51:14.609405Z",
     "iopub.status.idle": "2023-08-10T04:51:14.625810Z",
     "shell.execute_reply": "2023-08-10T04:51:14.624367Z",
     "shell.execute_reply.started": "2023-08-10T04:51:14.609876Z"
    }
   },
   "outputs": [
    {
     "data": {
      "text/plain": [
       "type                    0\n",
       "fixed acidity           0\n",
       "volatile acidity        0\n",
       "citric acid             0\n",
       "residual sugar          2\n",
       "chlorides               0\n",
       "free sulfur dioxide     0\n",
       "total sulfur dioxide    0\n",
       "density                 0\n",
       "pH                      0\n",
       "sulphates               0\n",
       "alcohol                 0\n",
       "quality                 0\n",
       "dtype: int64"
      ]
     },
     "execution_count": 86,
     "metadata": {},
     "output_type": "execute_result"
    }
   ],
   "source": [
    "## Successfully imputed missing values with mean\n",
    "df.isnull().sum()"
   ]
  },
  {
   "cell_type": "code",
   "execution_count": 158,
   "metadata": {
    "execution": {
     "iopub.execute_input": "2023-08-10T05:06:35.863367Z",
     "iopub.status.busy": "2023-08-10T05:06:35.862871Z",
     "iopub.status.idle": "2023-08-10T05:06:35.899114Z",
     "shell.execute_reply": "2023-08-10T05:06:35.896804Z",
     "shell.execute_reply.started": "2023-08-10T05:06:35.863333Z"
    }
   },
   "outputs": [
    {
     "data": {
      "text/html": [
       "<div>\n",
       "<style scoped>\n",
       "    .dataframe tbody tr th:only-of-type {\n",
       "        vertical-align: middle;\n",
       "    }\n",
       "\n",
       "    .dataframe tbody tr th {\n",
       "        vertical-align: top;\n",
       "    }\n",
       "\n",
       "    .dataframe thead th {\n",
       "        text-align: right;\n",
       "    }\n",
       "</style>\n",
       "<table border=\"1\" class=\"dataframe\">\n",
       "  <thead>\n",
       "    <tr style=\"text-align: right;\">\n",
       "      <th></th>\n",
       "      <th>type</th>\n",
       "      <th>fixed acidity</th>\n",
       "      <th>volatile acidity</th>\n",
       "      <th>citric acid</th>\n",
       "      <th>residual sugar</th>\n",
       "      <th>chlorides</th>\n",
       "      <th>free sulfur dioxide</th>\n",
       "      <th>total sulfur dioxide</th>\n",
       "      <th>density</th>\n",
       "      <th>pH</th>\n",
       "      <th>sulphates</th>\n",
       "      <th>alcohol</th>\n",
       "      <th>quality</th>\n",
       "    </tr>\n",
       "  </thead>\n",
       "  <tbody>\n",
       "    <tr>\n",
       "      <th>4898</th>\n",
       "      <td>red</td>\n",
       "      <td>7.4</td>\n",
       "      <td>0.700</td>\n",
       "      <td>0.00</td>\n",
       "      <td>1.9</td>\n",
       "      <td>0.076</td>\n",
       "      <td>11.0</td>\n",
       "      <td>34.0</td>\n",
       "      <td>0.99780</td>\n",
       "      <td>3.51</td>\n",
       "      <td>0.56</td>\n",
       "      <td>9.4</td>\n",
       "      <td>5</td>\n",
       "    </tr>\n",
       "    <tr>\n",
       "      <th>4899</th>\n",
       "      <td>red</td>\n",
       "      <td>7.8</td>\n",
       "      <td>0.880</td>\n",
       "      <td>0.00</td>\n",
       "      <td>2.6</td>\n",
       "      <td>0.098</td>\n",
       "      <td>25.0</td>\n",
       "      <td>67.0</td>\n",
       "      <td>0.99680</td>\n",
       "      <td>3.20</td>\n",
       "      <td>0.68</td>\n",
       "      <td>9.8</td>\n",
       "      <td>5</td>\n",
       "    </tr>\n",
       "    <tr>\n",
       "      <th>4900</th>\n",
       "      <td>red</td>\n",
       "      <td>7.8</td>\n",
       "      <td>0.760</td>\n",
       "      <td>0.04</td>\n",
       "      <td>2.3</td>\n",
       "      <td>0.092</td>\n",
       "      <td>15.0</td>\n",
       "      <td>54.0</td>\n",
       "      <td>0.99700</td>\n",
       "      <td>3.26</td>\n",
       "      <td>0.65</td>\n",
       "      <td>9.8</td>\n",
       "      <td>5</td>\n",
       "    </tr>\n",
       "    <tr>\n",
       "      <th>4901</th>\n",
       "      <td>red</td>\n",
       "      <td>11.2</td>\n",
       "      <td>0.280</td>\n",
       "      <td>0.56</td>\n",
       "      <td>1.9</td>\n",
       "      <td>0.075</td>\n",
       "      <td>17.0</td>\n",
       "      <td>60.0</td>\n",
       "      <td>0.99800</td>\n",
       "      <td>3.16</td>\n",
       "      <td>0.58</td>\n",
       "      <td>9.8</td>\n",
       "      <td>6</td>\n",
       "    </tr>\n",
       "    <tr>\n",
       "      <th>4902</th>\n",
       "      <td>red</td>\n",
       "      <td>7.4</td>\n",
       "      <td>0.700</td>\n",
       "      <td>0.00</td>\n",
       "      <td>1.9</td>\n",
       "      <td>0.076</td>\n",
       "      <td>11.0</td>\n",
       "      <td>34.0</td>\n",
       "      <td>0.99780</td>\n",
       "      <td>3.51</td>\n",
       "      <td>0.56</td>\n",
       "      <td>9.4</td>\n",
       "      <td>5</td>\n",
       "    </tr>\n",
       "    <tr>\n",
       "      <th>...</th>\n",
       "      <td>...</td>\n",
       "      <td>...</td>\n",
       "      <td>...</td>\n",
       "      <td>...</td>\n",
       "      <td>...</td>\n",
       "      <td>...</td>\n",
       "      <td>...</td>\n",
       "      <td>...</td>\n",
       "      <td>...</td>\n",
       "      <td>...</td>\n",
       "      <td>...</td>\n",
       "      <td>...</td>\n",
       "      <td>...</td>\n",
       "    </tr>\n",
       "    <tr>\n",
       "      <th>6479</th>\n",
       "      <td>red</td>\n",
       "      <td>6.2</td>\n",
       "      <td>0.560</td>\n",
       "      <td>0.09</td>\n",
       "      <td>1.7</td>\n",
       "      <td>0.053</td>\n",
       "      <td>24.0</td>\n",
       "      <td>32.0</td>\n",
       "      <td>0.99402</td>\n",
       "      <td>3.54</td>\n",
       "      <td>0.60</td>\n",
       "      <td>11.3</td>\n",
       "      <td>5</td>\n",
       "    </tr>\n",
       "    <tr>\n",
       "      <th>6480</th>\n",
       "      <td>red</td>\n",
       "      <td>6.1</td>\n",
       "      <td>0.715</td>\n",
       "      <td>0.10</td>\n",
       "      <td>2.6</td>\n",
       "      <td>0.053</td>\n",
       "      <td>13.0</td>\n",
       "      <td>27.0</td>\n",
       "      <td>0.99362</td>\n",
       "      <td>3.57</td>\n",
       "      <td>0.50</td>\n",
       "      <td>11.9</td>\n",
       "      <td>5</td>\n",
       "    </tr>\n",
       "    <tr>\n",
       "      <th>6481</th>\n",
       "      <td>red</td>\n",
       "      <td>6.2</td>\n",
       "      <td>0.460</td>\n",
       "      <td>0.29</td>\n",
       "      <td>2.1</td>\n",
       "      <td>0.074</td>\n",
       "      <td>32.0</td>\n",
       "      <td>98.0</td>\n",
       "      <td>0.99578</td>\n",
       "      <td>3.33</td>\n",
       "      <td>0.62</td>\n",
       "      <td>9.8</td>\n",
       "      <td>5</td>\n",
       "    </tr>\n",
       "    <tr>\n",
       "      <th>6482</th>\n",
       "      <td>red</td>\n",
       "      <td>6.7</td>\n",
       "      <td>0.320</td>\n",
       "      <td>0.44</td>\n",
       "      <td>2.4</td>\n",
       "      <td>0.061</td>\n",
       "      <td>24.0</td>\n",
       "      <td>34.0</td>\n",
       "      <td>0.99484</td>\n",
       "      <td>3.29</td>\n",
       "      <td>0.80</td>\n",
       "      <td>11.6</td>\n",
       "      <td>7</td>\n",
       "    </tr>\n",
       "    <tr>\n",
       "      <th>6483</th>\n",
       "      <td>red</td>\n",
       "      <td>7.2</td>\n",
       "      <td>0.390</td>\n",
       "      <td>0.44</td>\n",
       "      <td>2.6</td>\n",
       "      <td>0.066</td>\n",
       "      <td>22.0</td>\n",
       "      <td>48.0</td>\n",
       "      <td>0.99494</td>\n",
       "      <td>3.30</td>\n",
       "      <td>0.84</td>\n",
       "      <td>11.5</td>\n",
       "      <td>6</td>\n",
       "    </tr>\n",
       "  </tbody>\n",
       "</table>\n",
       "<p>1586 rows × 13 columns</p>\n",
       "</div>"
      ],
      "text/plain": [
       "     type  fixed acidity  volatile acidity  citric acid  residual sugar  \\\n",
       "4898  red            7.4             0.700         0.00             1.9   \n",
       "4899  red            7.8             0.880         0.00             2.6   \n",
       "4900  red            7.8             0.760         0.04             2.3   \n",
       "4901  red           11.2             0.280         0.56             1.9   \n",
       "4902  red            7.4             0.700         0.00             1.9   \n",
       "...   ...            ...               ...          ...             ...   \n",
       "6479  red            6.2             0.560         0.09             1.7   \n",
       "6480  red            6.1             0.715         0.10             2.6   \n",
       "6481  red            6.2             0.460         0.29             2.1   \n",
       "6482  red            6.7             0.320         0.44             2.4   \n",
       "6483  red            7.2             0.390         0.44             2.6   \n",
       "\n",
       "      chlorides  free sulfur dioxide  total sulfur dioxide  density    pH  \\\n",
       "4898      0.076                 11.0                  34.0  0.99780  3.51   \n",
       "4899      0.098                 25.0                  67.0  0.99680  3.20   \n",
       "4900      0.092                 15.0                  54.0  0.99700  3.26   \n",
       "4901      0.075                 17.0                  60.0  0.99800  3.16   \n",
       "4902      0.076                 11.0                  34.0  0.99780  3.51   \n",
       "...         ...                  ...                   ...      ...   ...   \n",
       "6479      0.053                 24.0                  32.0  0.99402  3.54   \n",
       "6480      0.053                 13.0                  27.0  0.99362  3.57   \n",
       "6481      0.074                 32.0                  98.0  0.99578  3.33   \n",
       "6482      0.061                 24.0                  34.0  0.99484  3.29   \n",
       "6483      0.066                 22.0                  48.0  0.99494  3.30   \n",
       "\n",
       "      sulphates  alcohol  quality  \n",
       "4898       0.56      9.4        5  \n",
       "4899       0.68      9.8        5  \n",
       "4900       0.65      9.8        5  \n",
       "4901       0.58      9.8        6  \n",
       "4902       0.56      9.4        5  \n",
       "...         ...      ...      ...  \n",
       "6479       0.60     11.3        5  \n",
       "6480       0.50     11.9        5  \n",
       "6481       0.62      9.8        5  \n",
       "6482       0.80     11.6        7  \n",
       "6483       0.84     11.5        6  \n",
       "\n",
       "[1586 rows x 13 columns]"
      ]
     },
     "execution_count": 158,
     "metadata": {},
     "output_type": "execute_result"
    }
   ],
   "source": [
    "#Checking an example duplicate\n",
    "df.query('type == \"red\"')"
   ]
  },
  {
   "cell_type": "code",
   "execution_count": 159,
   "metadata": {
    "execution": {
     "iopub.execute_input": "2023-08-10T05:07:44.647064Z",
     "iopub.status.busy": "2023-08-10T05:07:44.646627Z",
     "iopub.status.idle": "2023-08-10T05:07:44.657601Z",
     "shell.execute_reply": "2023-08-10T05:07:44.656320Z",
     "shell.execute_reply.started": "2023-08-10T05:07:44.647028Z"
    }
   },
   "outputs": [
    {
     "data": {
      "text/plain": [
       "white    4898\n",
       "red      1586\n",
       "Name: type, dtype: int64"
      ]
     },
     "execution_count": 159,
     "metadata": {},
     "output_type": "execute_result"
    }
   ],
   "source": [
    "# Count of types \n",
    "df['type'].value_counts()"
   ]
  },
  {
   "cell_type": "markdown",
   "metadata": {},
   "source": [
    "# GRAPHES AND VISUALIZATIONS"
   ]
  },
  {
   "cell_type": "code",
   "execution_count": 87,
   "metadata": {
    "execution": {
     "iopub.execute_input": "2023-08-10T04:51:17.605634Z",
     "iopub.status.busy": "2023-08-10T04:51:17.604533Z",
     "iopub.status.idle": "2023-08-10T04:51:18.025221Z",
     "shell.execute_reply": "2023-08-10T04:51:18.024100Z",
     "shell.execute_reply.started": "2023-08-10T04:51:17.605597Z"
    }
   },
   "outputs": [
    {
     "data": {
      "image/png": "[encoded data removed]",
      "text/plain": [
       "<Figure size 1000x700 with 1 Axes>"
      ]
     },
     "metadata": {},
     "output_type": "display_data"
    }
   ],
   "source": [
    "#Show plots\n",
    "plt.figure(figsize = (10, 7))\n",
    "plt.scatter(x = \"alcohol\", y = \"fixed acidity\", data = df)\n",
    "plt.xlabel(\"alcohol\")\n",
    "plt.ylabel(\"fixed acidity\")\n",
    "plt.show()"
   ]
  },
  {
   "cell_type": "code",
   "execution_count": 88,
   "metadata": {
    "execution": {
     "iopub.execute_input": "2023-08-10T04:51:21.908319Z",
     "iopub.status.busy": "2023-08-10T04:51:21.907914Z",
     "iopub.status.idle": "2023-08-10T04:51:23.325205Z",
     "shell.execute_reply": "2023-08-10T04:51:23.324047Z",
     "shell.execute_reply.started": "2023-08-10T04:51:21.908288Z"
    }
   },
   "outputs": [
    {
     "name": "stderr",
     "output_type": "stream",
     "text": [
      "/opt/conda/lib/python3.10/site-packages/seaborn/axisgrid.py:118: UserWarning: The figure layout has changed to tight\n",
      "  self._figure.tight_layout(*args, **kwargs)\n",
      "/tmp/ipykernel_33/958309559.py:3: UserWarning: The figure layout has changed to tight\n",
      "  plt.tight_layout()  # Adjust figure layout\n"
     ]
    },
    {
     "data": {
      "text/plain": [
       "[]"
      ]
     },
     "execution_count": 88,
     "metadata": {},
     "output_type": "execute_result"
    },
    {
     "data": {
      "image/png": "[encoded data removed]",
      "text/plain": [
       "<Figure size 600x500 with 1 Axes>"
      ]
     },
     "metadata": {},
     "output_type": "display_data"
    }
   ],
   "source": [
    "#seaborn.lmplot() method is used to draw a scatter plot with regression line\n",
    "sns.lmplot(x = \"alcohol\", y = \"fixed acidity\", data = df, aspect=1.2)\n",
    "plt.tight_layout()  # Adjust figure layout\n",
    "# Shoe Plot\n",
    "plt.plot()\n"
   ]
  },
  {
   "cell_type": "code",
   "execution_count": 89,
   "metadata": {
    "execution": {
     "iopub.execute_input": "2023-08-10T04:51:26.593417Z",
     "iopub.status.busy": "2023-08-10T04:51:26.592990Z",
     "iopub.status.idle": "2023-08-10T04:51:27.012039Z",
     "shell.execute_reply": "2023-08-10T04:51:27.010881Z",
     "shell.execute_reply.started": "2023-08-10T04:51:26.593381Z"
    }
   },
   "outputs": [
    {
     "data": {
      "image/png": "[encoded data removed]",
      "text/plain": [
       "<Figure size 1000x700 with 1 Axes>"
      ]
     },
     "metadata": {},
     "output_type": "display_data"
    }
   ],
   "source": [
    "# There are significant outliers present here\n",
    "plt.figure(figsize = (10, 7))\n",
    "plt.scatter(x = \"alcohol\", y = \"volatile acidity\", data = df)\n",
    "plt.xlabel(\"alcohol\")\n",
    "plt.ylabel(\"volatile acidity\")\n",
    "plt.show()\n"
   ]
  },
  {
   "cell_type": "code",
   "execution_count": 90,
   "metadata": {
    "execution": {
     "iopub.execute_input": "2023-08-10T04:51:30.347975Z",
     "iopub.status.busy": "2023-08-10T04:51:30.347501Z",
     "iopub.status.idle": "2023-08-10T04:51:30.741589Z",
     "shell.execute_reply": "2023-08-10T04:51:30.740239Z",
     "shell.execute_reply.started": "2023-08-10T04:51:30.347936Z"
    }
   },
   "outputs": [
    {
     "data": {
      "image/png": "[encoded data removed]",
      "text/plain": [
       "<Figure size 640x480 with 1 Axes>"
      ]
     },
     "metadata": {},
     "output_type": "display_data"
    }
   ],
   "source": [
    "sns.set_style(style=\"darkgrid\") # set theme\n",
    "sns.countplot(x = \"quality\",hue=\"type\", data = df) # Show the counts of observations in each categorical bin using bars.\n",
    "plt.show()"
   ]
  },
  {
   "cell_type": "code",
   "execution_count": 91,
   "metadata": {
    "execution": {
     "iopub.execute_input": "2023-08-10T04:51:33.801303Z",
     "iopub.status.busy": "2023-08-10T04:51:33.800928Z",
     "iopub.status.idle": "2023-08-10T04:51:34.195286Z",
     "shell.execute_reply": "2023-08-10T04:51:34.194018Z",
     "shell.execute_reply.started": "2023-08-10T04:51:33.801273Z"
    }
   },
   "outputs": [
    {
     "name": "stderr",
     "output_type": "stream",
     "text": [
      "/tmp/ipykernel_33/1483947705.py:1: UserWarning: \n",
      "\n",
      "`distplot` is a deprecated function and will be removed in seaborn v0.14.0.\n",
      "\n",
      "Please adapt your code to use either `displot` (a figure-level function with\n",
      "similar flexibility) or `histplot` (an axes-level function for histograms).\n",
      "\n",
      "For a guide to updating your code to use the new functions, please see\n",
      "https://gist.github.com/mwaskom/de44147ed2974457ad6372750bbe5751\n",
      "\n",
      "  sns.distplot(df[\"quality\"],bins=10)\n"
     ]
    },
    {
     "data": {
      "image/png": "[encoded data removed]",
      "text/plain": [
       "<Figure size 640x480 with 1 Axes>"
      ]
     },
     "metadata": {},
     "output_type": "display_data"
    }
   ],
   "source": [
    "sns.distplot(df[\"quality\"],bins=10)\n",
    "plt.show()"
   ]
  },
  {
   "cell_type": "code",
   "execution_count": 92,
   "metadata": {
    "execution": {
     "iopub.execute_input": "2023-08-10T04:51:37.284561Z",
     "iopub.status.busy": "2023-08-10T04:51:37.283986Z",
     "iopub.status.idle": "2023-08-10T04:51:38.552639Z",
     "shell.execute_reply": "2023-08-10T04:51:38.551576Z",
     "shell.execute_reply.started": "2023-08-10T04:51:37.284518Z"
    }
   },
   "outputs": [
    {
     "name": "stderr",
     "output_type": "stream",
     "text": [
      "/opt/conda/lib/python3.10/site-packages/seaborn/axisgrid.py:118: UserWarning: The figure layout has changed to tight\n",
      "  self._figure.tight_layout(*args, **kwargs)\n"
     ]
    },
    {
     "data": {
      "text/plain": [
       "<Figure size 1000x700 with 0 Axes>"
      ]
     },
     "metadata": {},
     "output_type": "display_data"
    },
    {
     "data": {
      "image/png": "[encoded data removed]",
      "text/plain": [
       "<Figure size 500x500 with 1 Axes>"
      ]
     },
     "metadata": {},
     "output_type": "display_data"
    }
   ],
   "source": [
    "plt.figure(figsize=(10,7))\n",
    "sns.lmplot(x = \"citric acid\", y = \"chlorides\", data = df)\n",
    "plt.show()"
   ]
  },
  {
   "cell_type": "code",
   "execution_count": 93,
   "metadata": {
    "execution": {
     "iopub.execute_input": "2023-08-10T04:51:42.229018Z",
     "iopub.status.busy": "2023-08-10T04:51:42.228530Z",
     "iopub.status.idle": "2023-08-10T04:51:42.763860Z",
     "shell.execute_reply": "2023-08-10T04:51:42.762690Z",
     "shell.execute_reply.started": "2023-08-10T04:51:42.228970Z"
    }
   },
   "outputs": [
    {
     "data": {
      "image/png": "[encoded data removed]",
      "text/plain": [
       "<Figure size 2000x1000 with 1 Axes>"
      ]
     },
     "metadata": {},
     "output_type": "display_data"
    }
   ],
   "source": [
    "plt.figure(figsize = (20, 10))\n",
    "sns.boxplot(data = df, palette = \"Set2\")\n",
    "plt.show()"
   ]
  },
  {
   "cell_type": "markdown",
   "metadata": {},
   "source": [
    "# REMOVE OUTLIERS"
   ]
  },
  {
   "cell_type": "code",
   "execution_count": 94,
   "metadata": {
    "execution": {
     "iopub.execute_input": "2023-08-10T04:51:46.276888Z",
     "iopub.status.busy": "2023-08-10T04:51:46.276449Z",
     "iopub.status.idle": "2023-08-10T04:51:46.285222Z",
     "shell.execute_reply": "2023-08-10T04:51:46.283905Z",
     "shell.execute_reply.started": "2023-08-10T04:51:46.276852Z"
    }
   },
   "outputs": [
    {
     "name": "stdout",
     "output_type": "stream",
     "text": [
      "17.0\n"
     ]
    }
   ],
   "source": [
    "Q1 = df[\"free sulfur dioxide\"].quantile(0.25)\n",
    "print(Q1)"
   ]
  },
  {
   "cell_type": "code",
   "execution_count": 95,
   "metadata": {
    "execution": {
     "iopub.execute_input": "2023-08-10T04:51:49.725238Z",
     "iopub.status.busy": "2023-08-10T04:51:49.724817Z",
     "iopub.status.idle": "2023-08-10T04:51:49.733533Z",
     "shell.execute_reply": "2023-08-10T04:51:49.732310Z",
     "shell.execute_reply.started": "2023-08-10T04:51:49.725199Z"
    }
   },
   "outputs": [
    {
     "name": "stdout",
     "output_type": "stream",
     "text": [
      "41.0\n"
     ]
    }
   ],
   "source": [
    "Q3 = df[\"free sulfur dioxide\"].quantile(0.75)\n",
    "print(Q3)"
   ]
  },
  {
   "cell_type": "code",
   "execution_count": 96,
   "metadata": {
    "execution": {
     "iopub.execute_input": "2023-08-10T04:51:52.349067Z",
     "iopub.status.busy": "2023-08-10T04:51:52.348658Z",
     "iopub.status.idle": "2023-08-10T04:51:52.356263Z",
     "shell.execute_reply": "2023-08-10T04:51:52.354908Z",
     "shell.execute_reply.started": "2023-08-10T04:51:52.349035Z"
    }
   },
   "outputs": [
    {
     "name": "stdout",
     "output_type": "stream",
     "text": [
      "24.0\n"
     ]
    }
   ],
   "source": [
    "IQR = Q3 - Q1\n",
    "print(IQR)"
   ]
  },
  {
   "cell_type": "code",
   "execution_count": 97,
   "metadata": {
    "execution": {
     "iopub.execute_input": "2023-08-10T04:51:54.745504Z",
     "iopub.status.busy": "2023-08-10T04:51:54.745122Z",
     "iopub.status.idle": "2023-08-10T04:51:54.751489Z",
     "shell.execute_reply": "2023-08-10T04:51:54.750181Z",
     "shell.execute_reply.started": "2023-08-10T04:51:54.745473Z"
    }
   },
   "outputs": [
    {
     "name": "stdout",
     "output_type": "stream",
     "text": [
      "-19.0 77.0\n"
     ]
    }
   ],
   "source": [
    "lower_limit = Q1 - 1.5 *(IQR)\n",
    "upper_limit = Q3 + 1.5 *(IQR)\n",
    "print(lower_limit, upper_limit)"
   ]
  },
  {
   "cell_type": "code",
   "execution_count": 98,
   "metadata": {
    "execution": {
     "iopub.execute_input": "2023-08-10T04:51:57.301973Z",
     "iopub.status.busy": "2023-08-10T04:51:57.301561Z",
     "iopub.status.idle": "2023-08-10T04:51:57.310175Z",
     "shell.execute_reply": "2023-08-10T04:51:57.308805Z",
     "shell.execute_reply.started": "2023-08-10T04:51:57.301941Z"
    }
   },
   "outputs": [
    {
     "data": {
      "text/plain": [
       "(6484,)"
      ]
     },
     "execution_count": 98,
     "metadata": {},
     "output_type": "execute_result"
    }
   ],
   "source": [
    "df[\"free sulfur dioxide\"].shape"
   ]
  },
  {
   "cell_type": "code",
   "execution_count": 99,
   "metadata": {
    "execution": {
     "iopub.execute_input": "2023-08-10T04:52:02.572811Z",
     "iopub.status.busy": "2023-08-10T04:52:02.572377Z",
     "iopub.status.idle": "2023-08-10T04:52:02.580602Z",
     "shell.execute_reply": "2023-08-10T04:52:02.579170Z",
     "shell.execute_reply.started": "2023-08-10T04:52:02.572776Z"
    }
   },
   "outputs": [],
   "source": [
    "df2 = df[(df[\"free sulfur dioxide\"] > lower_limit) & (df[\"free sulfur dioxide\"] < upper_limit)]"
   ]
  },
  {
   "cell_type": "code",
   "execution_count": 100,
   "metadata": {
    "execution": {
     "iopub.execute_input": "2023-08-10T04:52:04.681488Z",
     "iopub.status.busy": "2023-08-10T04:52:04.681105Z",
     "iopub.status.idle": "2023-08-10T04:52:04.689006Z",
     "shell.execute_reply": "2023-08-10T04:52:04.687613Z",
     "shell.execute_reply.started": "2023-08-10T04:52:04.681459Z"
    }
   },
   "outputs": [
    {
     "data": {
      "text/plain": [
       "(6417,)"
      ]
     },
     "execution_count": 100,
     "metadata": {},
     "output_type": "execute_result"
    }
   ],
   "source": [
    "df2[\"free sulfur dioxide\"].shape"
   ]
  },
  {
   "cell_type": "code",
   "execution_count": 101,
   "metadata": {
    "execution": {
     "iopub.execute_input": "2023-08-10T04:52:26.260857Z",
     "iopub.status.busy": "2023-08-10T04:52:26.260432Z",
     "iopub.status.idle": "2023-08-10T04:52:26.268964Z",
     "shell.execute_reply": "2023-08-10T04:52:26.267857Z",
     "shell.execute_reply.started": "2023-08-10T04:52:26.260812Z"
    }
   },
   "outputs": [
    {
     "data": {
      "text/plain": [
       "67"
      ]
     },
     "execution_count": 101,
     "metadata": {},
     "output_type": "execute_result"
    }
   ],
   "source": [
    "df.shape[0] - df2.shape[0]"
   ]
  },
  {
   "cell_type": "code",
   "execution_count": 102,
   "metadata": {
    "execution": {
     "iopub.execute_input": "2023-08-10T04:52:28.677791Z",
     "iopub.status.busy": "2023-08-10T04:52:28.677340Z",
     "iopub.status.idle": "2023-08-10T04:52:29.210232Z",
     "shell.execute_reply": "2023-08-10T04:52:29.208805Z",
     "shell.execute_reply.started": "2023-08-10T04:52:28.677759Z"
    }
   },
   "outputs": [
    {
     "data": {
      "image/png": "[encoded data removed]",
      "text/plain": [
       "<Figure size 2000x1000 with 1 Axes>"
      ]
     },
     "metadata": {},
     "output_type": "display_data"
    }
   ],
   "source": [
    "plt.figure(figsize = (20, 10))\n",
    "sns.boxplot(data = df2, palette = \"Set2\")\n",
    "plt.show()"
   ]
  },
  {
   "cell_type": "code",
   "execution_count": 103,
   "metadata": {
    "execution": {
     "iopub.execute_input": "2023-08-10T04:52:32.516970Z",
     "iopub.status.busy": "2023-08-10T04:52:32.516274Z",
     "iopub.status.idle": "2023-08-10T04:52:32.529792Z",
     "shell.execute_reply": "2023-08-10T04:52:32.528503Z",
     "shell.execute_reply.started": "2023-08-10T04:52:32.516932Z"
    }
   },
   "outputs": [
    {
     "data": {
      "text/plain": [
       "type                    0\n",
       "fixed acidity           0\n",
       "volatile acidity        0\n",
       "citric acid             0\n",
       "residual sugar          2\n",
       "chlorides               0\n",
       "free sulfur dioxide     0\n",
       "total sulfur dioxide    0\n",
       "density                 0\n",
       "pH                      0\n",
       "sulphates               0\n",
       "alcohol                 0\n",
       "quality                 0\n",
       "dtype: int64"
      ]
     },
     "execution_count": 103,
     "metadata": {},
     "output_type": "execute_result"
    }
   ],
   "source": [
    "df2.isnull().sum()"
   ]
  },
  {
   "cell_type": "code",
   "execution_count": 104,
   "metadata": {
    "execution": {
     "iopub.execute_input": "2023-08-10T04:52:35.624456Z",
     "iopub.status.busy": "2023-08-10T04:52:35.624084Z",
     "iopub.status.idle": "2023-08-10T04:52:35.632426Z",
     "shell.execute_reply": "2023-08-10T04:52:35.631007Z",
     "shell.execute_reply.started": "2023-08-10T04:52:35.624427Z"
    }
   },
   "outputs": [
    {
     "name": "stdout",
     "output_type": "stream",
     "text": [
      "77.0\n"
     ]
    }
   ],
   "source": [
    "Q1 = df2[\"total sulfur dioxide\"].quantile(0.25)\n",
    "print(Q1)"
   ]
  },
  {
   "cell_type": "code",
   "execution_count": 105,
   "metadata": {
    "execution": {
     "iopub.execute_input": "2023-08-10T04:52:37.957171Z",
     "iopub.status.busy": "2023-08-10T04:52:37.956461Z",
     "iopub.status.idle": "2023-08-10T04:52:37.964974Z",
     "shell.execute_reply": "2023-08-10T04:52:37.963760Z",
     "shell.execute_reply.started": "2023-08-10T04:52:37.957135Z"
    }
   },
   "outputs": [
    {
     "name": "stdout",
     "output_type": "stream",
     "text": [
      "155.0\n"
     ]
    }
   ],
   "source": [
    "Q3 = df2[\"total sulfur dioxide\"].quantile(0.75)\n",
    "print(Q3)"
   ]
  },
  {
   "cell_type": "code",
   "execution_count": 106,
   "metadata": {
    "execution": {
     "iopub.execute_input": "2023-08-10T04:52:40.340156Z",
     "iopub.status.busy": "2023-08-10T04:52:40.339725Z",
     "iopub.status.idle": "2023-08-10T04:52:40.345952Z",
     "shell.execute_reply": "2023-08-10T04:52:40.344907Z",
     "shell.execute_reply.started": "2023-08-10T04:52:40.340120Z"
    }
   },
   "outputs": [
    {
     "name": "stdout",
     "output_type": "stream",
     "text": [
      "78.0\n"
     ]
    }
   ],
   "source": [
    "IQR = Q3 - Q1\n",
    "print(IQR)"
   ]
  },
  {
   "cell_type": "code",
   "execution_count": 107,
   "metadata": {
    "execution": {
     "iopub.execute_input": "2023-08-10T04:52:43.109423Z",
     "iopub.status.busy": "2023-08-10T04:52:43.109008Z",
     "iopub.status.idle": "2023-08-10T04:52:43.115342Z",
     "shell.execute_reply": "2023-08-10T04:52:43.114294Z",
     "shell.execute_reply.started": "2023-08-10T04:52:43.109389Z"
    }
   },
   "outputs": [
    {
     "name": "stdout",
     "output_type": "stream",
     "text": [
      "-40.0 272.0\n"
     ]
    }
   ],
   "source": [
    "lower_limit = Q1 - 1.5 *(IQR)\n",
    "upper_limit = Q3 + 1.5 *(IQR)\n",
    "print(lower_limit, upper_limit)"
   ]
  },
  {
   "cell_type": "code",
   "execution_count": 108,
   "metadata": {
    "execution": {
     "iopub.execute_input": "2023-08-10T04:52:45.593379Z",
     "iopub.status.busy": "2023-08-10T04:52:45.592939Z",
     "iopub.status.idle": "2023-08-10T04:52:45.600676Z",
     "shell.execute_reply": "2023-08-10T04:52:45.599460Z",
     "shell.execute_reply.started": "2023-08-10T04:52:45.593343Z"
    }
   },
   "outputs": [
    {
     "data": {
      "text/plain": [
       "(6417,)"
      ]
     },
     "execution_count": 108,
     "metadata": {},
     "output_type": "execute_result"
    }
   ],
   "source": [
    "df2[\"total sulfur dioxide\"].shape"
   ]
  },
  {
   "cell_type": "code",
   "execution_count": 109,
   "metadata": {
    "execution": {
     "iopub.execute_input": "2023-08-10T04:52:48.036942Z",
     "iopub.status.busy": "2023-08-10T04:52:48.036494Z",
     "iopub.status.idle": "2023-08-10T04:52:48.045745Z",
     "shell.execute_reply": "2023-08-10T04:52:48.044306Z",
     "shell.execute_reply.started": "2023-08-10T04:52:48.036907Z"
    }
   },
   "outputs": [],
   "source": [
    "df3 = df2[(df2['total sulfur dioxide'] > lower_limit) & (df2['total sulfur dioxide'] < upper_limit)]"
   ]
  },
  {
   "cell_type": "code",
   "execution_count": 110,
   "metadata": {
    "execution": {
     "iopub.execute_input": "2023-08-10T04:52:50.469021Z",
     "iopub.status.busy": "2023-08-10T04:52:50.468589Z",
     "iopub.status.idle": "2023-08-10T04:52:50.476767Z",
     "shell.execute_reply": "2023-08-10T04:52:50.475408Z",
     "shell.execute_reply.started": "2023-08-10T04:52:50.468987Z"
    }
   },
   "outputs": [
    {
     "data": {
      "text/plain": [
       "(6409,)"
      ]
     },
     "execution_count": 110,
     "metadata": {},
     "output_type": "execute_result"
    }
   ],
   "source": [
    "df3[\"total sulfur dioxide\"].shape"
   ]
  },
  {
   "cell_type": "code",
   "execution_count": 111,
   "metadata": {
    "execution": {
     "iopub.execute_input": "2023-08-10T04:52:53.280183Z",
     "iopub.status.busy": "2023-08-10T04:52:53.279766Z",
     "iopub.status.idle": "2023-08-10T04:52:53.287253Z",
     "shell.execute_reply": "2023-08-10T04:52:53.286140Z",
     "shell.execute_reply.started": "2023-08-10T04:52:53.280151Z"
    }
   },
   "outputs": [
    {
     "data": {
      "text/plain": [
       "8"
      ]
     },
     "execution_count": 111,
     "metadata": {},
     "output_type": "execute_result"
    }
   ],
   "source": [
    "df2.shape[0] - df3.shape[0]"
   ]
  },
  {
   "cell_type": "code",
   "execution_count": 112,
   "metadata": {
    "execution": {
     "iopub.execute_input": "2023-08-10T04:52:56.452951Z",
     "iopub.status.busy": "2023-08-10T04:52:56.452520Z",
     "iopub.status.idle": "2023-08-10T04:52:56.967737Z",
     "shell.execute_reply": "2023-08-10T04:52:56.966543Z",
     "shell.execute_reply.started": "2023-08-10T04:52:56.452918Z"
    }
   },
   "outputs": [
    {
     "data": {
      "image/png": "[encoded data removed]",
      "text/plain": [
       "<Figure size 2000x1000 with 1 Axes>"
      ]
     },
     "metadata": {},
     "output_type": "display_data"
    }
   ],
   "source": [
    "plt.figure(figsize = (20, 10))\n",
    "sns.boxplot(data = df3, palette = \"Set2\")\n",
    "plt.show()"
   ]
  },
  {
   "cell_type": "code",
   "execution_count": 113,
   "metadata": {
    "execution": {
     "iopub.execute_input": "2023-08-10T04:52:59.904402Z",
     "iopub.status.busy": "2023-08-10T04:52:59.903991Z",
     "iopub.status.idle": "2023-08-10T04:52:59.917651Z",
     "shell.execute_reply": "2023-08-10T04:52:59.916424Z",
     "shell.execute_reply.started": "2023-08-10T04:52:59.904369Z"
    }
   },
   "outputs": [
    {
     "data": {
      "text/plain": [
       "type                    0\n",
       "fixed acidity           0\n",
       "volatile acidity        0\n",
       "citric acid             0\n",
       "residual sugar          2\n",
       "chlorides               0\n",
       "free sulfur dioxide     0\n",
       "total sulfur dioxide    0\n",
       "density                 0\n",
       "pH                      0\n",
       "sulphates               0\n",
       "alcohol                 0\n",
       "quality                 0\n",
       "dtype: int64"
      ]
     },
     "execution_count": 113,
     "metadata": {},
     "output_type": "execute_result"
    }
   ],
   "source": [
    "df3.isnull().sum()"
   ]
  },
  {
   "cell_type": "code",
   "execution_count": 114,
   "metadata": {
    "execution": {
     "iopub.execute_input": "2023-08-10T04:53:03.132060Z",
     "iopub.status.busy": "2023-08-10T04:53:03.131604Z",
     "iopub.status.idle": "2023-08-10T04:53:03.141205Z",
     "shell.execute_reply": "2023-08-10T04:53:03.139743Z",
     "shell.execute_reply.started": "2023-08-10T04:53:03.132014Z"
    }
   },
   "outputs": [
    {
     "name": "stdout",
     "output_type": "stream",
     "text": [
      "1.8\n"
     ]
    }
   ],
   "source": [
    "Q1 = df3[\"residual sugar\"].quantile(0.25)\n",
    "print(Q1)"
   ]
  },
  {
   "cell_type": "code",
   "execution_count": 115,
   "metadata": {
    "execution": {
     "iopub.execute_input": "2023-08-10T04:53:07.313482Z",
     "iopub.status.busy": "2023-08-10T04:53:07.313035Z",
     "iopub.status.idle": "2023-08-10T04:53:07.322462Z",
     "shell.execute_reply": "2023-08-10T04:53:07.321162Z",
     "shell.execute_reply.started": "2023-08-10T04:53:07.313447Z"
    }
   },
   "outputs": [
    {
     "name": "stdout",
     "output_type": "stream",
     "text": [
      "8.0\n"
     ]
    }
   ],
   "source": [
    "Q3 = df3[\"residual sugar\"].quantile(0.75)\n",
    "print(Q3)"
   ]
  },
  {
   "cell_type": "code",
   "execution_count": 116,
   "metadata": {
    "execution": {
     "iopub.execute_input": "2023-08-10T04:53:14.365555Z",
     "iopub.status.busy": "2023-08-10T04:53:14.365126Z",
     "iopub.status.idle": "2023-08-10T04:53:14.371697Z",
     "shell.execute_reply": "2023-08-10T04:53:14.370270Z",
     "shell.execute_reply.started": "2023-08-10T04:53:14.365511Z"
    }
   },
   "outputs": [
    {
     "name": "stdout",
     "output_type": "stream",
     "text": [
      "6.2\n"
     ]
    }
   ],
   "source": [
    "IQR = Q3 - Q1\n",
    "print(IQR)"
   ]
  },
  {
   "cell_type": "code",
   "execution_count": 117,
   "metadata": {
    "execution": {
     "iopub.execute_input": "2023-08-10T04:53:16.984496Z",
     "iopub.status.busy": "2023-08-10T04:53:16.984081Z",
     "iopub.status.idle": "2023-08-10T04:53:16.991023Z",
     "shell.execute_reply": "2023-08-10T04:53:16.989803Z",
     "shell.execute_reply.started": "2023-08-10T04:53:16.984461Z"
    }
   },
   "outputs": [
    {
     "name": "stdout",
     "output_type": "stream",
     "text": [
      "-7.500000000000001 17.3\n"
     ]
    }
   ],
   "source": [
    "lower_limit = Q1 - 1.5 *(IQR)\n",
    "upper_limit = Q3 + 1.5 *(IQR)\n",
    "print(lower_limit, upper_limit)"
   ]
  },
  {
   "cell_type": "code",
   "execution_count": 118,
   "metadata": {
    "execution": {
     "iopub.execute_input": "2023-08-10T04:53:20.321362Z",
     "iopub.status.busy": "2023-08-10T04:53:20.320959Z",
     "iopub.status.idle": "2023-08-10T04:53:20.329257Z",
     "shell.execute_reply": "2023-08-10T04:53:20.328031Z",
     "shell.execute_reply.started": "2023-08-10T04:53:20.321330Z"
    }
   },
   "outputs": [
    {
     "data": {
      "text/plain": [
       "(6409,)"
      ]
     },
     "execution_count": 118,
     "metadata": {},
     "output_type": "execute_result"
    }
   ],
   "source": [
    "df3[\"residual sugar\"].shape"
   ]
  },
  {
   "cell_type": "code",
   "execution_count": 121,
   "metadata": {
    "execution": {
     "iopub.execute_input": "2023-08-10T04:53:26.735866Z",
     "iopub.status.busy": "2023-08-10T04:53:26.735399Z",
     "iopub.status.idle": "2023-08-10T04:53:26.743509Z",
     "shell.execute_reply": "2023-08-10T04:53:26.742344Z",
     "shell.execute_reply.started": "2023-08-10T04:53:26.735811Z"
    }
   },
   "outputs": [],
   "source": [
    "df4 = df3[(df3['residual sugar'] > lower_limit) & (df3['residual sugar'] < upper_limit)]"
   ]
  },
  {
   "cell_type": "code",
   "execution_count": 122,
   "metadata": {
    "execution": {
     "iopub.execute_input": "2023-08-10T04:53:28.607996Z",
     "iopub.status.busy": "2023-08-10T04:53:28.607544Z",
     "iopub.status.idle": "2023-08-10T04:53:28.615785Z",
     "shell.execute_reply": "2023-08-10T04:53:28.614676Z",
     "shell.execute_reply.started": "2023-08-10T04:53:28.607958Z"
    }
   },
   "outputs": [
    {
     "data": {
      "text/plain": [
       "(6263,)"
      ]
     },
     "execution_count": 122,
     "metadata": {},
     "output_type": "execute_result"
    }
   ],
   "source": [
    "df4[\"residual sugar\"].shape"
   ]
  },
  {
   "cell_type": "code",
   "execution_count": 123,
   "metadata": {
    "execution": {
     "iopub.execute_input": "2023-08-10T04:53:31.912114Z",
     "iopub.status.busy": "2023-08-10T04:53:31.911678Z",
     "iopub.status.idle": "2023-08-10T04:53:31.920506Z",
     "shell.execute_reply": "2023-08-10T04:53:31.918901Z",
     "shell.execute_reply.started": "2023-08-10T04:53:31.912075Z"
    }
   },
   "outputs": [
    {
     "data": {
      "text/plain": [
       "146"
      ]
     },
     "execution_count": 123,
     "metadata": {},
     "output_type": "execute_result"
    }
   ],
   "source": [
    "df3.shape[0] - df4.shape[0]"
   ]
  },
  {
   "cell_type": "code",
   "execution_count": 125,
   "metadata": {
    "execution": {
     "iopub.execute_input": "2023-08-10T04:53:40.761749Z",
     "iopub.status.busy": "2023-08-10T04:53:40.761289Z",
     "iopub.status.idle": "2023-08-10T04:53:41.262193Z",
     "shell.execute_reply": "2023-08-10T04:53:41.260924Z",
     "shell.execute_reply.started": "2023-08-10T04:53:40.761713Z"
    }
   },
   "outputs": [
    {
     "data": {
      "image/png": "[encoded data removed]",
      "text/plain": [
       "<Figure size 2000x1000 with 1 Axes>"
      ]
     },
     "metadata": {},
     "output_type": "display_data"
    }
   ],
   "source": [
    "plt.figure(figsize = (20, 10))\n",
    "sns.boxplot(data = df4, palette = \"Set2\")\n",
    "plt.show()"
   ]
  },
  {
   "cell_type": "code",
   "execution_count": 126,
   "metadata": {
    "execution": {
     "iopub.execute_input": "2023-08-10T04:53:44.447470Z",
     "iopub.status.busy": "2023-08-10T04:53:44.447091Z",
     "iopub.status.idle": "2023-08-10T04:53:44.460198Z",
     "shell.execute_reply": "2023-08-10T04:53:44.459142Z",
     "shell.execute_reply.started": "2023-08-10T04:53:44.447442Z"
    }
   },
   "outputs": [
    {
     "data": {
      "text/plain": [
       "type                    0\n",
       "fixed acidity           0\n",
       "volatile acidity        0\n",
       "citric acid             0\n",
       "residual sugar          0\n",
       "chlorides               0\n",
       "free sulfur dioxide     0\n",
       "total sulfur dioxide    0\n",
       "density                 0\n",
       "pH                      0\n",
       "sulphates               0\n",
       "alcohol                 0\n",
       "quality                 0\n",
       "dtype: int64"
      ]
     },
     "execution_count": 126,
     "metadata": {},
     "output_type": "execute_result"
    }
   ],
   "source": [
    "df4.isnull().sum()"
   ]
  },
  {
   "cell_type": "code",
   "execution_count": 127,
   "metadata": {
    "execution": {
     "iopub.execute_input": "2023-08-10T04:53:47.520723Z",
     "iopub.status.busy": "2023-08-10T04:53:47.519463Z",
     "iopub.status.idle": "2023-08-10T04:53:47.537430Z",
     "shell.execute_reply": "2023-08-10T04:53:47.536016Z",
     "shell.execute_reply.started": "2023-08-10T04:53:47.520679Z"
    }
   },
   "outputs": [
    {
     "name": "stdout",
     "output_type": "stream",
     "text": [
      "<class 'pandas.core.frame.DataFrame'>\n",
      "Int64Index: 6263 entries, 1 to 6483\n",
      "Data columns (total 13 columns):\n",
      " #   Column                Non-Null Count  Dtype  \n",
      "---  ------                --------------  -----  \n",
      " 0   type                  6263 non-null   object \n",
      " 1   fixed acidity         6263 non-null   float64\n",
      " 2   volatile acidity      6263 non-null   float64\n",
      " 3   citric acid           6263 non-null   float64\n",
      " 4   residual sugar        6263 non-null   float64\n",
      " 5   chlorides             6263 non-null   float64\n",
      " 6   free sulfur dioxide   6263 non-null   float64\n",
      " 7   total sulfur dioxide  6263 non-null   float64\n",
      " 8   density               6263 non-null   float64\n",
      " 9   pH                    6263 non-null   float64\n",
      " 10  sulphates             6263 non-null   float64\n",
      " 11  alcohol               6263 non-null   float64\n",
      " 12  quality               6263 non-null   int64  \n",
      "dtypes: float64(11), int64(1), object(1)\n",
      "memory usage: 685.0+ KB\n"
     ]
    }
   ],
   "source": [
    "df4.info()"
   ]
  },
  {
   "cell_type": "code",
   "execution_count": 145,
   "metadata": {
    "execution": {
     "iopub.execute_input": "2023-08-10T04:58:21.132056Z",
     "iopub.status.busy": "2023-08-10T04:58:21.131548Z",
     "iopub.status.idle": "2023-08-10T04:58:21.140444Z",
     "shell.execute_reply": "2023-08-10T04:58:21.139219Z",
     "shell.execute_reply.started": "2023-08-10T04:58:21.132008Z"
    }
   },
   "outputs": [],
   "source": [
    "df4 = pd.concat([df4, dummies], axis = 1)"
   ]
  },
  {
   "cell_type": "code",
   "execution_count": 146,
   "metadata": {
    "execution": {
     "iopub.execute_input": "2023-08-10T04:58:25.461555Z",
     "iopub.status.busy": "2023-08-10T04:58:25.460662Z",
     "iopub.status.idle": "2023-08-10T04:58:25.486186Z",
     "shell.execute_reply": "2023-08-10T04:58:25.484883Z",
     "shell.execute_reply.started": "2023-08-10T04:58:25.461511Z"
    }
   },
   "outputs": [
    {
     "data": {
      "text/html": [
       "<div>\n",
       "<style scoped>\n",
       "    .dataframe tbody tr th:only-of-type {\n",
       "        vertical-align: middle;\n",
       "    }\n",
       "\n",
       "    .dataframe tbody tr th {\n",
       "        vertical-align: top;\n",
       "    }\n",
       "\n",
       "    .dataframe thead th {\n",
       "        text-align: right;\n",
       "    }\n",
       "</style>\n",
       "<table border=\"1\" class=\"dataframe\">\n",
       "  <thead>\n",
       "    <tr style=\"text-align: right;\">\n",
       "      <th></th>\n",
       "      <th>fixed acidity</th>\n",
       "      <th>volatile acidity</th>\n",
       "      <th>citric acid</th>\n",
       "      <th>residual sugar</th>\n",
       "      <th>chlorides</th>\n",
       "      <th>free sulfur dioxide</th>\n",
       "      <th>total sulfur dioxide</th>\n",
       "      <th>density</th>\n",
       "      <th>pH</th>\n",
       "      <th>sulphates</th>\n",
       "      <th>alcohol</th>\n",
       "      <th>quality</th>\n",
       "      <th>white</th>\n",
       "      <th>white</th>\n",
       "      <th>white</th>\n",
       "    </tr>\n",
       "  </thead>\n",
       "  <tbody>\n",
       "    <tr>\n",
       "      <th>1</th>\n",
       "      <td>6.3</td>\n",
       "      <td>0.30</td>\n",
       "      <td>0.34</td>\n",
       "      <td>1.6</td>\n",
       "      <td>0.049</td>\n",
       "      <td>14.0</td>\n",
       "      <td>132.0</td>\n",
       "      <td>0.9940</td>\n",
       "      <td>3.30</td>\n",
       "      <td>0.49</td>\n",
       "      <td>9.5</td>\n",
       "      <td>1</td>\n",
       "      <td>1</td>\n",
       "      <td>1</td>\n",
       "      <td>1</td>\n",
       "    </tr>\n",
       "    <tr>\n",
       "      <th>2</th>\n",
       "      <td>8.1</td>\n",
       "      <td>0.28</td>\n",
       "      <td>0.40</td>\n",
       "      <td>6.9</td>\n",
       "      <td>0.050</td>\n",
       "      <td>30.0</td>\n",
       "      <td>97.0</td>\n",
       "      <td>0.9951</td>\n",
       "      <td>3.26</td>\n",
       "      <td>0.44</td>\n",
       "      <td>10.1</td>\n",
       "      <td>1</td>\n",
       "      <td>1</td>\n",
       "      <td>1</td>\n",
       "      <td>1</td>\n",
       "    </tr>\n",
       "    <tr>\n",
       "      <th>3</th>\n",
       "      <td>7.2</td>\n",
       "      <td>0.23</td>\n",
       "      <td>0.32</td>\n",
       "      <td>8.5</td>\n",
       "      <td>0.058</td>\n",
       "      <td>47.0</td>\n",
       "      <td>186.0</td>\n",
       "      <td>0.9956</td>\n",
       "      <td>3.19</td>\n",
       "      <td>0.40</td>\n",
       "      <td>9.9</td>\n",
       "      <td>1</td>\n",
       "      <td>1</td>\n",
       "      <td>1</td>\n",
       "      <td>1</td>\n",
       "    </tr>\n",
       "    <tr>\n",
       "      <th>4</th>\n",
       "      <td>7.2</td>\n",
       "      <td>0.23</td>\n",
       "      <td>0.32</td>\n",
       "      <td>8.5</td>\n",
       "      <td>0.058</td>\n",
       "      <td>47.0</td>\n",
       "      <td>186.0</td>\n",
       "      <td>0.9956</td>\n",
       "      <td>3.19</td>\n",
       "      <td>0.40</td>\n",
       "      <td>9.9</td>\n",
       "      <td>1</td>\n",
       "      <td>1</td>\n",
       "      <td>1</td>\n",
       "      <td>1</td>\n",
       "    </tr>\n",
       "    <tr>\n",
       "      <th>5</th>\n",
       "      <td>8.1</td>\n",
       "      <td>0.28</td>\n",
       "      <td>0.40</td>\n",
       "      <td>6.9</td>\n",
       "      <td>0.050</td>\n",
       "      <td>30.0</td>\n",
       "      <td>92.0</td>\n",
       "      <td>0.9951</td>\n",
       "      <td>3.26</td>\n",
       "      <td>0.44</td>\n",
       "      <td>10.1</td>\n",
       "      <td>1</td>\n",
       "      <td>1</td>\n",
       "      <td>1</td>\n",
       "      <td>1</td>\n",
       "    </tr>\n",
       "  </tbody>\n",
       "</table>\n",
       "</div>"
      ],
      "text/plain": [
       "   fixed acidity  volatile acidity  citric acid  residual sugar  chlorides  \\\n",
       "1            6.3              0.30         0.34             1.6      0.049   \n",
       "2            8.1              0.28         0.40             6.9      0.050   \n",
       "3            7.2              0.23         0.32             8.5      0.058   \n",
       "4            7.2              0.23         0.32             8.5      0.058   \n",
       "5            8.1              0.28         0.40             6.9      0.050   \n",
       "\n",
       "   free sulfur dioxide  total sulfur dioxide  density    pH  sulphates  \\\n",
       "1                 14.0                 132.0   0.9940  3.30       0.49   \n",
       "2                 30.0                  97.0   0.9951  3.26       0.44   \n",
       "3                 47.0                 186.0   0.9956  3.19       0.40   \n",
       "4                 47.0                 186.0   0.9956  3.19       0.40   \n",
       "5                 30.0                  92.0   0.9951  3.26       0.44   \n",
       "\n",
       "   alcohol  quality  white  white  white  \n",
       "1      9.5        1      1      1      1  \n",
       "2     10.1        1      1      1      1  \n",
       "3      9.9        1      1      1      1  \n",
       "4      9.9        1      1      1      1  \n",
       "5     10.1        1      1      1      1  "
      ]
     },
     "execution_count": 146,
     "metadata": {},
     "output_type": "execute_result"
    }
   ],
   "source": [
    "df4.head()"
   ]
  },
  {
   "cell_type": "code",
   "execution_count": 135,
   "metadata": {
    "execution": {
     "iopub.execute_input": "2023-08-10T04:55:13.244123Z",
     "iopub.status.busy": "2023-08-10T04:55:13.243687Z",
     "iopub.status.idle": "2023-08-10T04:55:13.270706Z",
     "shell.execute_reply": "2023-08-10T04:55:13.269548Z",
     "shell.execute_reply.started": "2023-08-10T04:55:13.244089Z"
    }
   },
   "outputs": [
    {
     "data": {
      "text/html": [
       "<div>\n",
       "<style scoped>\n",
       "    .dataframe tbody tr th:only-of-type {\n",
       "        vertical-align: middle;\n",
       "    }\n",
       "\n",
       "    .dataframe tbody tr th {\n",
       "        vertical-align: top;\n",
       "    }\n",
       "\n",
       "    .dataframe thead th {\n",
       "        text-align: right;\n",
       "    }\n",
       "</style>\n",
       "<table border=\"1\" class=\"dataframe\">\n",
       "  <thead>\n",
       "    <tr style=\"text-align: right;\">\n",
       "      <th></th>\n",
       "      <th>fixed acidity</th>\n",
       "      <th>volatile acidity</th>\n",
       "      <th>citric acid</th>\n",
       "      <th>residual sugar</th>\n",
       "      <th>chlorides</th>\n",
       "      <th>free sulfur dioxide</th>\n",
       "      <th>total sulfur dioxide</th>\n",
       "      <th>density</th>\n",
       "      <th>pH</th>\n",
       "      <th>sulphates</th>\n",
       "      <th>alcohol</th>\n",
       "      <th>quality</th>\n",
       "      <th>white</th>\n",
       "      <th>white</th>\n",
       "    </tr>\n",
       "  </thead>\n",
       "  <tbody>\n",
       "    <tr>\n",
       "      <th>6479</th>\n",
       "      <td>6.2</td>\n",
       "      <td>0.560</td>\n",
       "      <td>0.09</td>\n",
       "      <td>1.7</td>\n",
       "      <td>0.053</td>\n",
       "      <td>24.0</td>\n",
       "      <td>32.0</td>\n",
       "      <td>0.99402</td>\n",
       "      <td>3.54</td>\n",
       "      <td>0.60</td>\n",
       "      <td>11.3</td>\n",
       "      <td>5</td>\n",
       "      <td>0</td>\n",
       "      <td>0</td>\n",
       "    </tr>\n",
       "    <tr>\n",
       "      <th>6480</th>\n",
       "      <td>6.1</td>\n",
       "      <td>0.715</td>\n",
       "      <td>0.10</td>\n",
       "      <td>2.6</td>\n",
       "      <td>0.053</td>\n",
       "      <td>13.0</td>\n",
       "      <td>27.0</td>\n",
       "      <td>0.99362</td>\n",
       "      <td>3.57</td>\n",
       "      <td>0.50</td>\n",
       "      <td>11.9</td>\n",
       "      <td>5</td>\n",
       "      <td>0</td>\n",
       "      <td>0</td>\n",
       "    </tr>\n",
       "    <tr>\n",
       "      <th>6481</th>\n",
       "      <td>6.2</td>\n",
       "      <td>0.460</td>\n",
       "      <td>0.29</td>\n",
       "      <td>2.1</td>\n",
       "      <td>0.074</td>\n",
       "      <td>32.0</td>\n",
       "      <td>98.0</td>\n",
       "      <td>0.99578</td>\n",
       "      <td>3.33</td>\n",
       "      <td>0.62</td>\n",
       "      <td>9.8</td>\n",
       "      <td>5</td>\n",
       "      <td>0</td>\n",
       "      <td>0</td>\n",
       "    </tr>\n",
       "    <tr>\n",
       "      <th>6482</th>\n",
       "      <td>6.7</td>\n",
       "      <td>0.320</td>\n",
       "      <td>0.44</td>\n",
       "      <td>2.4</td>\n",
       "      <td>0.061</td>\n",
       "      <td>24.0</td>\n",
       "      <td>34.0</td>\n",
       "      <td>0.99484</td>\n",
       "      <td>3.29</td>\n",
       "      <td>0.80</td>\n",
       "      <td>11.6</td>\n",
       "      <td>7</td>\n",
       "      <td>0</td>\n",
       "      <td>0</td>\n",
       "    </tr>\n",
       "    <tr>\n",
       "      <th>6483</th>\n",
       "      <td>7.2</td>\n",
       "      <td>0.390</td>\n",
       "      <td>0.44</td>\n",
       "      <td>2.6</td>\n",
       "      <td>0.066</td>\n",
       "      <td>22.0</td>\n",
       "      <td>48.0</td>\n",
       "      <td>0.99494</td>\n",
       "      <td>3.30</td>\n",
       "      <td>0.84</td>\n",
       "      <td>11.5</td>\n",
       "      <td>6</td>\n",
       "      <td>0</td>\n",
       "      <td>0</td>\n",
       "    </tr>\n",
       "  </tbody>\n",
       "</table>\n",
       "</div>"
      ],
      "text/plain": [
       "      fixed acidity  volatile acidity  citric acid  residual sugar  chlorides  \\\n",
       "6479            6.2             0.560         0.09             1.7      0.053   \n",
       "6480            6.1             0.715         0.10             2.6      0.053   \n",
       "6481            6.2             0.460         0.29             2.1      0.074   \n",
       "6482            6.7             0.320         0.44             2.4      0.061   \n",
       "6483            7.2             0.390         0.44             2.6      0.066   \n",
       "\n",
       "      free sulfur dioxide  total sulfur dioxide  density    pH  sulphates  \\\n",
       "6479                 24.0                  32.0  0.99402  3.54       0.60   \n",
       "6480                 13.0                  27.0  0.99362  3.57       0.50   \n",
       "6481                 32.0                  98.0  0.99578  3.33       0.62   \n",
       "6482                 24.0                  34.0  0.99484  3.29       0.80   \n",
       "6483                 22.0                  48.0  0.99494  3.30       0.84   \n",
       "\n",
       "      alcohol  quality  white  white  \n",
       "6479     11.3        5      0      0  \n",
       "6480     11.9        5      0      0  \n",
       "6481      9.8        5      0      0  \n",
       "6482     11.6        7      0      0  \n",
       "6483     11.5        6      0      0  "
      ]
     },
     "execution_count": 135,
     "metadata": {},
     "output_type": "execute_result"
    }
   ],
   "source": [
    "df4.tail()"
   ]
  },
  {
   "cell_type": "markdown",
   "metadata": {},
   "source": [
    "# MAPPING \"QUALITY\" WITH 3 CLASSES\n",
    "We want the quality 0,1,2 class"
   ]
  },
  {
   "cell_type": "code",
   "execution_count": 136,
   "metadata": {
    "execution": {
     "iopub.execute_input": "2023-08-10T04:55:16.732008Z",
     "iopub.status.busy": "2023-08-10T04:55:16.731569Z",
     "iopub.status.idle": "2023-08-10T04:55:16.741307Z",
     "shell.execute_reply": "2023-08-10T04:55:16.740104Z",
     "shell.execute_reply.started": "2023-08-10T04:55:16.731973Z"
    }
   },
   "outputs": [
    {
     "data": {
      "text/plain": [
       "6    2731\n",
       "5    2038\n",
       "7    1063\n",
       "4     213\n",
       "8     188\n",
       "3      25\n",
       "9       5\n",
       "Name: quality, dtype: int64"
      ]
     },
     "execution_count": 136,
     "metadata": {},
     "output_type": "execute_result"
    }
   ],
   "source": [
    "df4.quality.value_counts()"
   ]
  },
  {
   "cell_type": "code",
   "execution_count": 137,
   "metadata": {
    "execution": {
     "iopub.execute_input": "2023-08-10T04:55:20.272099Z",
     "iopub.status.busy": "2023-08-10T04:55:20.271692Z",
     "iopub.status.idle": "2023-08-10T04:55:20.281001Z",
     "shell.execute_reply": "2023-08-10T04:55:20.279837Z",
     "shell.execute_reply.started": "2023-08-10T04:55:20.272066Z"
    }
   },
   "outputs": [],
   "source": [
    "quality_map = {3 : \"Low\",4 : \"Low\", 5 : \"Medium\", 6 : \"Medium\", 7 : \"Medium\", 8 : \"High\", 9 : \"High\"}\n",
    "df4[\"quality\"] = df4[\"quality\"].map(quality_map)"
   ]
  },
  {
   "cell_type": "code",
   "execution_count": 138,
   "metadata": {
    "execution": {
     "iopub.execute_input": "2023-08-10T04:55:23.427342Z",
     "iopub.status.busy": "2023-08-10T04:55:23.426925Z",
     "iopub.status.idle": "2023-08-10T04:55:23.438720Z",
     "shell.execute_reply": "2023-08-10T04:55:23.437454Z",
     "shell.execute_reply.started": "2023-08-10T04:55:23.427306Z"
    }
   },
   "outputs": [
    {
     "data": {
      "text/plain": [
       "Medium    5832\n",
       "Low        238\n",
       "High       193\n",
       "Name: quality, dtype: int64"
      ]
     },
     "execution_count": 138,
     "metadata": {},
     "output_type": "execute_result"
    }
   ],
   "source": [
    "df4.quality.value_counts()"
   ]
  },
  {
   "cell_type": "code",
   "execution_count": 139,
   "metadata": {
    "execution": {
     "iopub.execute_input": "2023-08-10T04:55:29.715752Z",
     "iopub.status.busy": "2023-08-10T04:55:29.715318Z",
     "iopub.status.idle": "2023-08-10T04:55:29.741123Z",
     "shell.execute_reply": "2023-08-10T04:55:29.739736Z",
     "shell.execute_reply.started": "2023-08-10T04:55:29.715717Z"
    }
   },
   "outputs": [
    {
     "data": {
      "text/html": [
       "<div>\n",
       "<style scoped>\n",
       "    .dataframe tbody tr th:only-of-type {\n",
       "        vertical-align: middle;\n",
       "    }\n",
       "\n",
       "    .dataframe tbody tr th {\n",
       "        vertical-align: top;\n",
       "    }\n",
       "\n",
       "    .dataframe thead th {\n",
       "        text-align: right;\n",
       "    }\n",
       "</style>\n",
       "<table border=\"1\" class=\"dataframe\">\n",
       "  <thead>\n",
       "    <tr style=\"text-align: right;\">\n",
       "      <th></th>\n",
       "      <th>fixed acidity</th>\n",
       "      <th>volatile acidity</th>\n",
       "      <th>citric acid</th>\n",
       "      <th>residual sugar</th>\n",
       "      <th>chlorides</th>\n",
       "      <th>free sulfur dioxide</th>\n",
       "      <th>total sulfur dioxide</th>\n",
       "      <th>density</th>\n",
       "      <th>pH</th>\n",
       "      <th>sulphates</th>\n",
       "      <th>alcohol</th>\n",
       "      <th>quality</th>\n",
       "      <th>white</th>\n",
       "      <th>white</th>\n",
       "    </tr>\n",
       "  </thead>\n",
       "  <tbody>\n",
       "    <tr>\n",
       "      <th>1</th>\n",
       "      <td>6.3</td>\n",
       "      <td>0.30</td>\n",
       "      <td>0.34</td>\n",
       "      <td>1.6</td>\n",
       "      <td>0.049</td>\n",
       "      <td>14.0</td>\n",
       "      <td>132.0</td>\n",
       "      <td>0.9940</td>\n",
       "      <td>3.30</td>\n",
       "      <td>0.49</td>\n",
       "      <td>9.5</td>\n",
       "      <td>Medium</td>\n",
       "      <td>1</td>\n",
       "      <td>1</td>\n",
       "    </tr>\n",
       "    <tr>\n",
       "      <th>2</th>\n",
       "      <td>8.1</td>\n",
       "      <td>0.28</td>\n",
       "      <td>0.40</td>\n",
       "      <td>6.9</td>\n",
       "      <td>0.050</td>\n",
       "      <td>30.0</td>\n",
       "      <td>97.0</td>\n",
       "      <td>0.9951</td>\n",
       "      <td>3.26</td>\n",
       "      <td>0.44</td>\n",
       "      <td>10.1</td>\n",
       "      <td>Medium</td>\n",
       "      <td>1</td>\n",
       "      <td>1</td>\n",
       "    </tr>\n",
       "    <tr>\n",
       "      <th>3</th>\n",
       "      <td>7.2</td>\n",
       "      <td>0.23</td>\n",
       "      <td>0.32</td>\n",
       "      <td>8.5</td>\n",
       "      <td>0.058</td>\n",
       "      <td>47.0</td>\n",
       "      <td>186.0</td>\n",
       "      <td>0.9956</td>\n",
       "      <td>3.19</td>\n",
       "      <td>0.40</td>\n",
       "      <td>9.9</td>\n",
       "      <td>Medium</td>\n",
       "      <td>1</td>\n",
       "      <td>1</td>\n",
       "    </tr>\n",
       "    <tr>\n",
       "      <th>4</th>\n",
       "      <td>7.2</td>\n",
       "      <td>0.23</td>\n",
       "      <td>0.32</td>\n",
       "      <td>8.5</td>\n",
       "      <td>0.058</td>\n",
       "      <td>47.0</td>\n",
       "      <td>186.0</td>\n",
       "      <td>0.9956</td>\n",
       "      <td>3.19</td>\n",
       "      <td>0.40</td>\n",
       "      <td>9.9</td>\n",
       "      <td>Medium</td>\n",
       "      <td>1</td>\n",
       "      <td>1</td>\n",
       "    </tr>\n",
       "    <tr>\n",
       "      <th>5</th>\n",
       "      <td>8.1</td>\n",
       "      <td>0.28</td>\n",
       "      <td>0.40</td>\n",
       "      <td>6.9</td>\n",
       "      <td>0.050</td>\n",
       "      <td>30.0</td>\n",
       "      <td>92.0</td>\n",
       "      <td>0.9951</td>\n",
       "      <td>3.26</td>\n",
       "      <td>0.44</td>\n",
       "      <td>10.1</td>\n",
       "      <td>Medium</td>\n",
       "      <td>1</td>\n",
       "      <td>1</td>\n",
       "    </tr>\n",
       "  </tbody>\n",
       "</table>\n",
       "</div>"
      ],
      "text/plain": [
       "   fixed acidity  volatile acidity  citric acid  residual sugar  chlorides  \\\n",
       "1            6.3              0.30         0.34             1.6      0.049   \n",
       "2            8.1              0.28         0.40             6.9      0.050   \n",
       "3            7.2              0.23         0.32             8.5      0.058   \n",
       "4            7.2              0.23         0.32             8.5      0.058   \n",
       "5            8.1              0.28         0.40             6.9      0.050   \n",
       "\n",
       "   free sulfur dioxide  total sulfur dioxide  density    pH  sulphates  \\\n",
       "1                 14.0                 132.0   0.9940  3.30       0.49   \n",
       "2                 30.0                  97.0   0.9951  3.26       0.44   \n",
       "3                 47.0                 186.0   0.9956  3.19       0.40   \n",
       "4                 47.0                 186.0   0.9956  3.19       0.40   \n",
       "5                 30.0                  92.0   0.9951  3.26       0.44   \n",
       "\n",
       "   alcohol quality  white  white  \n",
       "1      9.5  Medium      1      1  \n",
       "2     10.1  Medium      1      1  \n",
       "3      9.9  Medium      1      1  \n",
       "4      9.9  Medium      1      1  \n",
       "5     10.1  Medium      1      1  "
      ]
     },
     "execution_count": 139,
     "metadata": {},
     "output_type": "execute_result"
    }
   ],
   "source": [
    "df4.head()"
   ]
  },
  {
   "cell_type": "code",
   "execution_count": 140,
   "metadata": {
    "execution": {
     "iopub.execute_input": "2023-08-10T04:55:32.300544Z",
     "iopub.status.busy": "2023-08-10T04:55:32.300100Z",
     "iopub.status.idle": "2023-08-10T04:55:32.327221Z",
     "shell.execute_reply": "2023-08-10T04:55:32.325923Z",
     "shell.execute_reply.started": "2023-08-10T04:55:32.300501Z"
    }
   },
   "outputs": [
    {
     "data": {
      "text/html": [
       "<div>\n",
       "<style scoped>\n",
       "    .dataframe tbody tr th:only-of-type {\n",
       "        vertical-align: middle;\n",
       "    }\n",
       "\n",
       "    .dataframe tbody tr th {\n",
       "        vertical-align: top;\n",
       "    }\n",
       "\n",
       "    .dataframe thead th {\n",
       "        text-align: right;\n",
       "    }\n",
       "</style>\n",
       "<table border=\"1\" class=\"dataframe\">\n",
       "  <thead>\n",
       "    <tr style=\"text-align: right;\">\n",
       "      <th></th>\n",
       "      <th>fixed acidity</th>\n",
       "      <th>volatile acidity</th>\n",
       "      <th>citric acid</th>\n",
       "      <th>residual sugar</th>\n",
       "      <th>chlorides</th>\n",
       "      <th>free sulfur dioxide</th>\n",
       "      <th>total sulfur dioxide</th>\n",
       "      <th>density</th>\n",
       "      <th>pH</th>\n",
       "      <th>sulphates</th>\n",
       "      <th>alcohol</th>\n",
       "      <th>quality</th>\n",
       "      <th>white</th>\n",
       "      <th>white</th>\n",
       "    </tr>\n",
       "  </thead>\n",
       "  <tbody>\n",
       "    <tr>\n",
       "      <th>6479</th>\n",
       "      <td>6.2</td>\n",
       "      <td>0.560</td>\n",
       "      <td>0.09</td>\n",
       "      <td>1.7</td>\n",
       "      <td>0.053</td>\n",
       "      <td>24.0</td>\n",
       "      <td>32.0</td>\n",
       "      <td>0.99402</td>\n",
       "      <td>3.54</td>\n",
       "      <td>0.60</td>\n",
       "      <td>11.3</td>\n",
       "      <td>Medium</td>\n",
       "      <td>0</td>\n",
       "      <td>0</td>\n",
       "    </tr>\n",
       "    <tr>\n",
       "      <th>6480</th>\n",
       "      <td>6.1</td>\n",
       "      <td>0.715</td>\n",
       "      <td>0.10</td>\n",
       "      <td>2.6</td>\n",
       "      <td>0.053</td>\n",
       "      <td>13.0</td>\n",
       "      <td>27.0</td>\n",
       "      <td>0.99362</td>\n",
       "      <td>3.57</td>\n",
       "      <td>0.50</td>\n",
       "      <td>11.9</td>\n",
       "      <td>Medium</td>\n",
       "      <td>0</td>\n",
       "      <td>0</td>\n",
       "    </tr>\n",
       "    <tr>\n",
       "      <th>6481</th>\n",
       "      <td>6.2</td>\n",
       "      <td>0.460</td>\n",
       "      <td>0.29</td>\n",
       "      <td>2.1</td>\n",
       "      <td>0.074</td>\n",
       "      <td>32.0</td>\n",
       "      <td>98.0</td>\n",
       "      <td>0.99578</td>\n",
       "      <td>3.33</td>\n",
       "      <td>0.62</td>\n",
       "      <td>9.8</td>\n",
       "      <td>Medium</td>\n",
       "      <td>0</td>\n",
       "      <td>0</td>\n",
       "    </tr>\n",
       "    <tr>\n",
       "      <th>6482</th>\n",
       "      <td>6.7</td>\n",
       "      <td>0.320</td>\n",
       "      <td>0.44</td>\n",
       "      <td>2.4</td>\n",
       "      <td>0.061</td>\n",
       "      <td>24.0</td>\n",
       "      <td>34.0</td>\n",
       "      <td>0.99484</td>\n",
       "      <td>3.29</td>\n",
       "      <td>0.80</td>\n",
       "      <td>11.6</td>\n",
       "      <td>Medium</td>\n",
       "      <td>0</td>\n",
       "      <td>0</td>\n",
       "    </tr>\n",
       "    <tr>\n",
       "      <th>6483</th>\n",
       "      <td>7.2</td>\n",
       "      <td>0.390</td>\n",
       "      <td>0.44</td>\n",
       "      <td>2.6</td>\n",
       "      <td>0.066</td>\n",
       "      <td>22.0</td>\n",
       "      <td>48.0</td>\n",
       "      <td>0.99494</td>\n",
       "      <td>3.30</td>\n",
       "      <td>0.84</td>\n",
       "      <td>11.5</td>\n",
       "      <td>Medium</td>\n",
       "      <td>0</td>\n",
       "      <td>0</td>\n",
       "    </tr>\n",
       "  </tbody>\n",
       "</table>\n",
       "</div>"
      ],
      "text/plain": [
       "      fixed acidity  volatile acidity  citric acid  residual sugar  chlorides  \\\n",
       "6479            6.2             0.560         0.09             1.7      0.053   \n",
       "6480            6.1             0.715         0.10             2.6      0.053   \n",
       "6481            6.2             0.460         0.29             2.1      0.074   \n",
       "6482            6.7             0.320         0.44             2.4      0.061   \n",
       "6483            7.2             0.390         0.44             2.6      0.066   \n",
       "\n",
       "      free sulfur dioxide  total sulfur dioxide  density    pH  sulphates  \\\n",
       "6479                 24.0                  32.0  0.99402  3.54       0.60   \n",
       "6480                 13.0                  27.0  0.99362  3.57       0.50   \n",
       "6481                 32.0                  98.0  0.99578  3.33       0.62   \n",
       "6482                 24.0                  34.0  0.99484  3.29       0.80   \n",
       "6483                 22.0                  48.0  0.99494  3.30       0.84   \n",
       "\n",
       "      alcohol quality  white  white  \n",
       "6479     11.3  Medium      0      0  \n",
       "6480     11.9  Medium      0      0  \n",
       "6481      9.8  Medium      0      0  \n",
       "6482     11.6  Medium      0      0  \n",
       "6483     11.5  Medium      0      0  "
      ]
     },
     "execution_count": 140,
     "metadata": {},
     "output_type": "execute_result"
    }
   ],
   "source": [
    "df4.tail()"
   ]
  },
  {
   "cell_type": "code",
   "execution_count": 141,
   "metadata": {
    "execution": {
     "iopub.execute_input": "2023-08-10T04:55:36.548436Z",
     "iopub.status.busy": "2023-08-10T04:55:36.548060Z",
     "iopub.status.idle": "2023-08-10T04:55:36.556477Z",
     "shell.execute_reply": "2023-08-10T04:55:36.555143Z",
     "shell.execute_reply.started": "2023-08-10T04:55:36.548408Z"
    }
   },
   "outputs": [],
   "source": [
    "map_quality = {\"Low\" : 0, \"Medium\" : 1, \"High\" : 2}\n",
    "df4[\"quality\"] = df4[\"quality\"].map(map_quality)"
   ]
  },
  {
   "cell_type": "code",
   "execution_count": 143,
   "metadata": {
    "execution": {
     "iopub.execute_input": "2023-08-10T04:55:43.485580Z",
     "iopub.status.busy": "2023-08-10T04:55:43.485146Z",
     "iopub.status.idle": "2023-08-10T04:55:43.496008Z",
     "shell.execute_reply": "2023-08-10T04:55:43.494725Z",
     "shell.execute_reply.started": "2023-08-10T04:55:43.485545Z"
    }
   },
   "outputs": [
    {
     "data": {
      "text/plain": [
       "1    5832\n",
       "0     238\n",
       "2     193\n",
       "Name: quality, dtype: int64"
      ]
     },
     "execution_count": 143,
     "metadata": {},
     "output_type": "execute_result"
    }
   ],
   "source": [
    "df4.quality.value_counts()"
   ]
  },
  {
   "cell_type": "code",
   "execution_count": 144,
   "metadata": {
    "execution": {
     "iopub.execute_input": "2023-08-10T04:55:46.437429Z",
     "iopub.status.busy": "2023-08-10T04:55:46.437046Z",
     "iopub.status.idle": "2023-08-10T04:55:46.462035Z",
     "shell.execute_reply": "2023-08-10T04:55:46.460854Z",
     "shell.execute_reply.started": "2023-08-10T04:55:46.437399Z"
    }
   },
   "outputs": [
    {
     "data": {
      "text/html": [
       "<div>\n",
       "<style scoped>\n",
       "    .dataframe tbody tr th:only-of-type {\n",
       "        vertical-align: middle;\n",
       "    }\n",
       "\n",
       "    .dataframe tbody tr th {\n",
       "        vertical-align: top;\n",
       "    }\n",
       "\n",
       "    .dataframe thead th {\n",
       "        text-align: right;\n",
       "    }\n",
       "</style>\n",
       "<table border=\"1\" class=\"dataframe\">\n",
       "  <thead>\n",
       "    <tr style=\"text-align: right;\">\n",
       "      <th></th>\n",
       "      <th>fixed acidity</th>\n",
       "      <th>volatile acidity</th>\n",
       "      <th>citric acid</th>\n",
       "      <th>residual sugar</th>\n",
       "      <th>chlorides</th>\n",
       "      <th>free sulfur dioxide</th>\n",
       "      <th>total sulfur dioxide</th>\n",
       "      <th>density</th>\n",
       "      <th>pH</th>\n",
       "      <th>sulphates</th>\n",
       "      <th>alcohol</th>\n",
       "      <th>quality</th>\n",
       "      <th>white</th>\n",
       "      <th>white</th>\n",
       "    </tr>\n",
       "  </thead>\n",
       "  <tbody>\n",
       "    <tr>\n",
       "      <th>1</th>\n",
       "      <td>6.3</td>\n",
       "      <td>0.30</td>\n",
       "      <td>0.34</td>\n",
       "      <td>1.6</td>\n",
       "      <td>0.049</td>\n",
       "      <td>14.0</td>\n",
       "      <td>132.0</td>\n",
       "      <td>0.9940</td>\n",
       "      <td>3.30</td>\n",
       "      <td>0.49</td>\n",
       "      <td>9.5</td>\n",
       "      <td>1</td>\n",
       "      <td>1</td>\n",
       "      <td>1</td>\n",
       "    </tr>\n",
       "    <tr>\n",
       "      <th>2</th>\n",
       "      <td>8.1</td>\n",
       "      <td>0.28</td>\n",
       "      <td>0.40</td>\n",
       "      <td>6.9</td>\n",
       "      <td>0.050</td>\n",
       "      <td>30.0</td>\n",
       "      <td>97.0</td>\n",
       "      <td>0.9951</td>\n",
       "      <td>3.26</td>\n",
       "      <td>0.44</td>\n",
       "      <td>10.1</td>\n",
       "      <td>1</td>\n",
       "      <td>1</td>\n",
       "      <td>1</td>\n",
       "    </tr>\n",
       "    <tr>\n",
       "      <th>3</th>\n",
       "      <td>7.2</td>\n",
       "      <td>0.23</td>\n",
       "      <td>0.32</td>\n",
       "      <td>8.5</td>\n",
       "      <td>0.058</td>\n",
       "      <td>47.0</td>\n",
       "      <td>186.0</td>\n",
       "      <td>0.9956</td>\n",
       "      <td>3.19</td>\n",
       "      <td>0.40</td>\n",
       "      <td>9.9</td>\n",
       "      <td>1</td>\n",
       "      <td>1</td>\n",
       "      <td>1</td>\n",
       "    </tr>\n",
       "    <tr>\n",
       "      <th>4</th>\n",
       "      <td>7.2</td>\n",
       "      <td>0.23</td>\n",
       "      <td>0.32</td>\n",
       "      <td>8.5</td>\n",
       "      <td>0.058</td>\n",
       "      <td>47.0</td>\n",
       "      <td>186.0</td>\n",
       "      <td>0.9956</td>\n",
       "      <td>3.19</td>\n",
       "      <td>0.40</td>\n",
       "      <td>9.9</td>\n",
       "      <td>1</td>\n",
       "      <td>1</td>\n",
       "      <td>1</td>\n",
       "    </tr>\n",
       "    <tr>\n",
       "      <th>5</th>\n",
       "      <td>8.1</td>\n",
       "      <td>0.28</td>\n",
       "      <td>0.40</td>\n",
       "      <td>6.9</td>\n",
       "      <td>0.050</td>\n",
       "      <td>30.0</td>\n",
       "      <td>92.0</td>\n",
       "      <td>0.9951</td>\n",
       "      <td>3.26</td>\n",
       "      <td>0.44</td>\n",
       "      <td>10.1</td>\n",
       "      <td>1</td>\n",
       "      <td>1</td>\n",
       "      <td>1</td>\n",
       "    </tr>\n",
       "  </tbody>\n",
       "</table>\n",
       "</div>"
      ],
      "text/plain": [
       "   fixed acidity  volatile acidity  citric acid  residual sugar  chlorides  \\\n",
       "1            6.3              0.30         0.34             1.6      0.049   \n",
       "2            8.1              0.28         0.40             6.9      0.050   \n",
       "3            7.2              0.23         0.32             8.5      0.058   \n",
       "4            7.2              0.23         0.32             8.5      0.058   \n",
       "5            8.1              0.28         0.40             6.9      0.050   \n",
       "\n",
       "   free sulfur dioxide  total sulfur dioxide  density    pH  sulphates  \\\n",
       "1                 14.0                 132.0   0.9940  3.30       0.49   \n",
       "2                 30.0                  97.0   0.9951  3.26       0.44   \n",
       "3                 47.0                 186.0   0.9956  3.19       0.40   \n",
       "4                 47.0                 186.0   0.9956  3.19       0.40   \n",
       "5                 30.0                  92.0   0.9951  3.26       0.44   \n",
       "\n",
       "   alcohol  quality  white  white  \n",
       "1      9.5        1      1      1  \n",
       "2     10.1        1      1      1  \n",
       "3      9.9        1      1      1  \n",
       "4      9.9        1      1      1  \n",
       "5     10.1        1      1      1  "
      ]
     },
     "execution_count": 144,
     "metadata": {},
     "output_type": "execute_result"
    }
   ],
   "source": [
    "df4.head()"
   ]
  }
 ],
 "metadata": {
  "kernelspec": {
   "display_name": "Python 3 (ipykernel)",
   "language": "python",
   "name": "python3"
  },
  "language_info": {
   "codemirror_mode": {
    "name": "ipython",
    "version": 3
   },
   "file_extension": ".py",
   "mimetype": "text/x-python",
   "name": "python",
   "nbconvert_exporter": "python",
   "pygments_lexer": "ipython3",
   "version": "3.10.9"
  }
 },
 "nbformat": 4,
 "nbformat_minor": 4
}
